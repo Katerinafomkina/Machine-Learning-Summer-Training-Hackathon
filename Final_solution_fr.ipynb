{
 "cells": [
  {
   "cell_type": "code",
   "execution_count": 103,
   "metadata": {
    "colab": {
     "base_uri": "https://localhost:8080/"
    },
    "id": "31PihYgNI4b5",
    "outputId": "7ac003d7-747b-4af3-f066-5fa14f6194c7"
   },
   "outputs": [
    {
     "name": "stdout",
     "output_type": "stream",
     "text": [
      "Drive already mounted at /content/drive; to attempt to forcibly remount, call drive.mount(\"/content/drive\", force_remount=True).\n"
     ]
    }
   ],
   "source": [
    "# Load the Drive helper and mount\n",
    "from google.colab import drive\n",
    "\n",
    "# This will prompt for authorization.\n",
    "drive.mount('/content/drive')"
   ]
  },
  {
   "cell_type": "code",
   "execution_count": null,
   "metadata": {
    "id": "R_37jUVvUQ-o"
   },
   "outputs": [],
   "source": [
    "import os\n",
    "WORK_DIR=\"drive/My Drive\"\n",
    "os.chdir(WORK_DIR)"
   ]
  },
  {
   "cell_type": "markdown",
   "metadata": {
    "id": "b4sfnPE6I3kA"
   },
   "source": [
    "I will take the data from Machine Learning Summer Training Hackathon.\n",
    "Steps:\n",
    "\n",
    "\n",
    "1.   Univariate analisys of features. Check for normal distribution and outliers\n",
    "2.   Bivariate analisys of features. Check for correlation between features and target variables\n",
    "3.   Check for Correlation matrix\n",
    "4.   Feature Imputing for 'education'\n",
    "5.   Feature Engineering\n",
    "     High correlation between:\n",
    "     * asset_cost and loan_amount -> 74%\n",
    "     * no_of_curr_loans and no_of_loans -> 77%\n",
    "      I will create two new features to avoid high  \n",
    "     correlation.\n",
    "\n",
    "     * create a column, which will store an information     \n",
    "       about having loans before and drop no_of_loans\n",
    "     * create column loan_amount-asset_cost, which tells  \n",
    "      about asset value without loan amount disbursed\n",
    "6.   Feature Scaling for numerical features\n",
    "7.   One hot encoding for 'proof_submitted'\n",
    "8.   Label Encoding for 'education'\n",
    "9.   Modelling.\n",
    "     * Logistic regression\n",
    "     * Decision Tree\n",
    "     * SVC\n",
    "     * KNN\n",
    "     * XGBOOST\n",
    "     * Random forest\n",
    "     I choose Random Forest Classifier\n",
    "     Final model on test set has macro f1_score=0.524564\n",
    "\n",
    "\n",
    "\n",
    "\n",
    "\n",
    "\n",
    "\n"
   ]
  },
  {
   "cell_type": "code",
   "execution_count": 4,
   "metadata": {
    "id": "mODfeGUUpyCW"
   },
   "outputs": [],
   "source": [
    "#Libraries i will use\n",
    "\n",
    "import numpy as np\n",
    "import pandas as pd\n",
    "import seaborn as sns\n",
    "import matplotlib.pyplot as plt\n",
    "from sklearn.preprocessing import LabelEncoder\n",
    "from sklearn.preprocessing import StandardScaler\n",
    "from sklearn.linear_model import LogisticRegression\n",
    "from sklearn.model_selection import KFold, StratifiedKFold, train_test_split\n",
    "from sklearn.metrics import f1_score\n",
    "from sklearn.ensemble import RandomForestRegressor\n",
    "from sklearn.model_selection import train_test_split\n",
    "from sklearn.metrics import mean_absolute_percentage_error\n",
    "from sklearn.metrics import r2_score\n",
    "from sklearn.svm import LinearSVR\n",
    "from sklearn.pipeline import make_pipeline\n",
    "from sklearn.preprocessing import MinMaxScaler\n",
    "from sklearn.preprocessing import LabelEncoder\n",
    "from sklearn.model_selection import cross_val_score\n",
    "from sklearn.tree import DecisionTreeRegressor\n",
    "\n",
    "import warnings\n",
    "warnings.simplefilter(action='ignore', category=FutureWarning)\n",
    "warnings.simplefilter(action='ignore', category=UserWarning)\n",
    "%matplotlib inline"
   ]
  },
  {
   "cell_type": "code",
   "execution_count": 104,
   "metadata": {
    "id": "1768WtJ9o79m"
   },
   "outputs": [],
   "source": [
    "#my train data\n",
    "train_df=pd.read_csv('train_LZV4RXX.csv')"
   ]
  },
  {
   "cell_type": "code",
   "execution_count": 105,
   "metadata": {
    "id": "RKALTe6-o77b"
   },
   "outputs": [],
   "source": [
    "#my test data\n",
    "test_df=pd.read_csv('test_4zJg83n.csv')"
   ]
  },
  {
   "cell_type": "code",
   "execution_count": 7,
   "metadata": {
    "colab": {
     "base_uri": "https://localhost:8080/",
     "height": 206
    },
    "id": "lu8n0EUso743",
    "outputId": "4ebb28d1-136c-47ac-cb6f-713a27cf2f80"
   },
   "outputs": [
    {
     "data": {
      "text/html": [
       "\n",
       "  <div id=\"df-314a158a-11e0-4809-83f7-fdfd99179446\">\n",
       "    <div class=\"colab-df-container\">\n",
       "      <div>\n",
       "<style scoped>\n",
       "    .dataframe tbody tr th:only-of-type {\n",
       "        vertical-align: middle;\n",
       "    }\n",
       "\n",
       "    .dataframe tbody tr th {\n",
       "        vertical-align: top;\n",
       "    }\n",
       "\n",
       "    .dataframe thead th {\n",
       "        text-align: right;\n",
       "    }\n",
       "</style>\n",
       "<table border=\"1\" class=\"dataframe\">\n",
       "  <thead>\n",
       "    <tr style=\"text-align: right;\">\n",
       "      <th></th>\n",
       "      <th>loan_id</th>\n",
       "      <th>age</th>\n",
       "      <th>education</th>\n",
       "      <th>proof_submitted</th>\n",
       "      <th>loan_amount</th>\n",
       "      <th>asset_cost</th>\n",
       "      <th>no_of_loans</th>\n",
       "      <th>no_of_curr_loans</th>\n",
       "      <th>last_delinq_none</th>\n",
       "      <th>loan_default</th>\n",
       "    </tr>\n",
       "  </thead>\n",
       "  <tbody>\n",
       "    <tr>\n",
       "      <th>0</th>\n",
       "      <td>1</td>\n",
       "      <td>27</td>\n",
       "      <td>1.0</td>\n",
       "      <td>Aadhar</td>\n",
       "      <td>504264</td>\n",
       "      <td>820920</td>\n",
       "      <td>2</td>\n",
       "      <td>2</td>\n",
       "      <td>0</td>\n",
       "      <td>0</td>\n",
       "    </tr>\n",
       "    <tr>\n",
       "      <th>1</th>\n",
       "      <td>2</td>\n",
       "      <td>48</td>\n",
       "      <td>1.0</td>\n",
       "      <td>Aadhar</td>\n",
       "      <td>728556</td>\n",
       "      <td>831444</td>\n",
       "      <td>6</td>\n",
       "      <td>2</td>\n",
       "      <td>0</td>\n",
       "      <td>0</td>\n",
       "    </tr>\n",
       "    <tr>\n",
       "      <th>2</th>\n",
       "      <td>3</td>\n",
       "      <td>30</td>\n",
       "      <td>2.0</td>\n",
       "      <td>VoterID</td>\n",
       "      <td>642936</td>\n",
       "      <td>826092</td>\n",
       "      <td>0</td>\n",
       "      <td>0</td>\n",
       "      <td>0</td>\n",
       "      <td>1</td>\n",
       "    </tr>\n",
       "    <tr>\n",
       "      <th>3</th>\n",
       "      <td>4</td>\n",
       "      <td>28</td>\n",
       "      <td>1.0</td>\n",
       "      <td>Aadhar</td>\n",
       "      <td>746556</td>\n",
       "      <td>930924</td>\n",
       "      <td>0</td>\n",
       "      <td>0</td>\n",
       "      <td>0</td>\n",
       "      <td>0</td>\n",
       "    </tr>\n",
       "    <tr>\n",
       "      <th>4</th>\n",
       "      <td>5</td>\n",
       "      <td>29</td>\n",
       "      <td>1.0</td>\n",
       "      <td>Aadhar</td>\n",
       "      <td>1139880</td>\n",
       "      <td>1902000</td>\n",
       "      <td>0</td>\n",
       "      <td>0</td>\n",
       "      <td>0</td>\n",
       "      <td>0</td>\n",
       "    </tr>\n",
       "  </tbody>\n",
       "</table>\n",
       "</div>\n",
       "      <button class=\"colab-df-convert\" onclick=\"convertToInteractive('df-314a158a-11e0-4809-83f7-fdfd99179446')\"\n",
       "              title=\"Convert this dataframe to an interactive table.\"\n",
       "              style=\"display:none;\">\n",
       "        \n",
       "  <svg xmlns=\"http://www.w3.org/2000/svg\" height=\"24px\"viewBox=\"0 0 24 24\"\n",
       "       width=\"24px\">\n",
       "    <path d=\"M0 0h24v24H0V0z\" fill=\"none\"/>\n",
       "    <path d=\"M18.56 5.44l.94 2.06.94-2.06 2.06-.94-2.06-.94-.94-2.06-.94 2.06-2.06.94zm-11 1L8.5 8.5l.94-2.06 2.06-.94-2.06-.94L8.5 2.5l-.94 2.06-2.06.94zm10 10l.94 2.06.94-2.06 2.06-.94-2.06-.94-.94-2.06-.94 2.06-2.06.94z\"/><path d=\"M17.41 7.96l-1.37-1.37c-.4-.4-.92-.59-1.43-.59-.52 0-1.04.2-1.43.59L10.3 9.45l-7.72 7.72c-.78.78-.78 2.05 0 2.83L4 21.41c.39.39.9.59 1.41.59.51 0 1.02-.2 1.41-.59l7.78-7.78 2.81-2.81c.8-.78.8-2.07 0-2.86zM5.41 20L4 18.59l7.72-7.72 1.47 1.35L5.41 20z\"/>\n",
       "  </svg>\n",
       "      </button>\n",
       "      \n",
       "  <style>\n",
       "    .colab-df-container {\n",
       "      display:flex;\n",
       "      flex-wrap:wrap;\n",
       "      gap: 12px;\n",
       "    }\n",
       "\n",
       "    .colab-df-convert {\n",
       "      background-color: #E8F0FE;\n",
       "      border: none;\n",
       "      border-radius: 50%;\n",
       "      cursor: pointer;\n",
       "      display: none;\n",
       "      fill: #1967D2;\n",
       "      height: 32px;\n",
       "      padding: 0 0 0 0;\n",
       "      width: 32px;\n",
       "    }\n",
       "\n",
       "    .colab-df-convert:hover {\n",
       "      background-color: #E2EBFA;\n",
       "      box-shadow: 0px 1px 2px rgba(60, 64, 67, 0.3), 0px 1px 3px 1px rgba(60, 64, 67, 0.15);\n",
       "      fill: #174EA6;\n",
       "    }\n",
       "\n",
       "    [theme=dark] .colab-df-convert {\n",
       "      background-color: #3B4455;\n",
       "      fill: #D2E3FC;\n",
       "    }\n",
       "\n",
       "    [theme=dark] .colab-df-convert:hover {\n",
       "      background-color: #434B5C;\n",
       "      box-shadow: 0px 1px 3px 1px rgba(0, 0, 0, 0.15);\n",
       "      filter: drop-shadow(0px 1px 2px rgba(0, 0, 0, 0.3));\n",
       "      fill: #FFFFFF;\n",
       "    }\n",
       "  </style>\n",
       "\n",
       "      <script>\n",
       "        const buttonEl =\n",
       "          document.querySelector('#df-314a158a-11e0-4809-83f7-fdfd99179446 button.colab-df-convert');\n",
       "        buttonEl.style.display =\n",
       "          google.colab.kernel.accessAllowed ? 'block' : 'none';\n",
       "\n",
       "        async function convertToInteractive(key) {\n",
       "          const element = document.querySelector('#df-314a158a-11e0-4809-83f7-fdfd99179446');\n",
       "          const dataTable =\n",
       "            await google.colab.kernel.invokeFunction('convertToInteractive',\n",
       "                                                     [key], {});\n",
       "          if (!dataTable) return;\n",
       "\n",
       "          const docLinkHtml = 'Like what you see? Visit the ' +\n",
       "            '<a target=\"_blank\" href=https://colab.research.google.com/notebooks/data_table.ipynb>data table notebook</a>'\n",
       "            + ' to learn more about interactive tables.';\n",
       "          element.innerHTML = '';\n",
       "          dataTable['output_type'] = 'display_data';\n",
       "          await google.colab.output.renderOutput(dataTable, element);\n",
       "          const docLink = document.createElement('div');\n",
       "          docLink.innerHTML = docLinkHtml;\n",
       "          element.appendChild(docLink);\n",
       "        }\n",
       "      </script>\n",
       "    </div>\n",
       "  </div>\n",
       "  "
      ],
      "text/plain": [
       "   loan_id  age  education proof_submitted  loan_amount  asset_cost  \\\n",
       "0        1   27        1.0          Aadhar       504264      820920   \n",
       "1        2   48        1.0          Aadhar       728556      831444   \n",
       "2        3   30        2.0         VoterID       642936      826092   \n",
       "3        4   28        1.0          Aadhar       746556      930924   \n",
       "4        5   29        1.0          Aadhar      1139880     1902000   \n",
       "\n",
       "   no_of_loans  no_of_curr_loans  last_delinq_none  loan_default  \n",
       "0            2                 2                 0             0  \n",
       "1            6                 2                 0             0  \n",
       "2            0                 0                 0             1  \n",
       "3            0                 0                 0             0  \n",
       "4            0                 0                 0             0  "
      ]
     },
     "execution_count": 7,
     "metadata": {},
     "output_type": "execute_result"
    }
   ],
   "source": [
    "#quick view \n",
    "train_df.head()"
   ]
  },
  {
   "cell_type": "markdown",
   "metadata": {
    "id": "IeRx9ax5VA63"
   },
   "source": [
    " Univariate Analysis"
   ]
  },
  {
   "cell_type": "code",
   "execution_count": 8,
   "metadata": {
    "colab": {
     "base_uri": "https://localhost:8080/"
    },
    "id": "CAgdofeEVKNg",
    "outputId": "efc49404-3292-41aa-e43b-c19477b96340"
   },
   "outputs": [
    {
     "data": {
      "text/plain": [
       "Index(['loan_id', 'age', 'education', 'proof_submitted', 'loan_amount',\n",
       "       'asset_cost', 'no_of_loans', 'no_of_curr_loans', 'last_delinq_none',\n",
       "       'loan_default'],\n",
       "      dtype='object')"
      ]
     },
     "execution_count": 8,
     "metadata": {},
     "output_type": "execute_result"
    }
   ],
   "source": [
    "#check columns\n",
    "train_df.columns"
   ]
  },
  {
   "cell_type": "code",
   "execution_count": 9,
   "metadata": {
    "colab": {
     "base_uri": "https://localhost:8080/"
    },
    "id": "egduhKaGVQci",
    "outputId": "836aee99-0ecd-44bc-f92c-57dc090d5560"
   },
   "outputs": [
    {
     "data": {
      "text/plain": [
       "Index(['loan_id', 'age', 'education', 'proof_submitted', 'loan_amount',\n",
       "       'asset_cost', 'no_of_loans', 'no_of_curr_loans', 'last_delinq_none'],\n",
       "      dtype='object')"
      ]
     },
     "execution_count": 9,
     "metadata": {},
     "output_type": "execute_result"
    }
   ],
   "source": [
    "#check columns\n",
    "test_df.columns"
   ]
  },
  {
   "cell_type": "code",
   "execution_count": 10,
   "metadata": {
    "colab": {
     "base_uri": "https://localhost:8080/"
    },
    "id": "egN3iv3BVfrE",
    "outputId": "539d2a85-1de8-4264-8a94-72edbe929f4a"
   },
   "outputs": [
    {
     "data": {
      "text/plain": [
       "((7000, 10), (3000, 9))"
      ]
     },
     "execution_count": 10,
     "metadata": {},
     "output_type": "execute_result"
    }
   ],
   "source": [
    "#shapes\n",
    "train_df.shape, test_df.shape"
   ]
  },
  {
   "cell_type": "code",
   "execution_count": 11,
   "metadata": {
    "colab": {
     "base_uri": "https://localhost:8080/",
     "height": 300
    },
    "id": "17DcPlwxMqOA",
    "outputId": "6bb4537e-3858-4e86-ba2b-1842c7683141"
   },
   "outputs": [
    {
     "data": {
      "text/html": [
       "\n",
       "  <div id=\"df-de7bee61-9704-4207-877e-4d8222cb631b\">\n",
       "    <div class=\"colab-df-container\">\n",
       "      <div>\n",
       "<style scoped>\n",
       "    .dataframe tbody tr th:only-of-type {\n",
       "        vertical-align: middle;\n",
       "    }\n",
       "\n",
       "    .dataframe tbody tr th {\n",
       "        vertical-align: top;\n",
       "    }\n",
       "\n",
       "    .dataframe thead th {\n",
       "        text-align: right;\n",
       "    }\n",
       "</style>\n",
       "<table border=\"1\" class=\"dataframe\">\n",
       "  <thead>\n",
       "    <tr style=\"text-align: right;\">\n",
       "      <th></th>\n",
       "      <th>loan_id</th>\n",
       "      <th>age</th>\n",
       "      <th>education</th>\n",
       "      <th>loan_amount</th>\n",
       "      <th>asset_cost</th>\n",
       "      <th>no_of_loans</th>\n",
       "      <th>no_of_curr_loans</th>\n",
       "      <th>last_delinq_none</th>\n",
       "      <th>loan_default</th>\n",
       "    </tr>\n",
       "  </thead>\n",
       "  <tbody>\n",
       "    <tr>\n",
       "      <th>count</th>\n",
       "      <td>7000.000000</td>\n",
       "      <td>7000.000000</td>\n",
       "      <td>6755.000000</td>\n",
       "      <td>7.000000e+03</td>\n",
       "      <td>7.000000e+03</td>\n",
       "      <td>7000.000000</td>\n",
       "      <td>7000.000000</td>\n",
       "      <td>7000.000000</td>\n",
       "      <td>7000.000000</td>\n",
       "    </tr>\n",
       "    <tr>\n",
       "      <th>mean</th>\n",
       "      <td>3500.500000</td>\n",
       "      <td>36.096571</td>\n",
       "      <td>1.561954</td>\n",
       "      <td>6.633552e+05</td>\n",
       "      <td>9.162998e+05</td>\n",
       "      <td>2.853286</td>\n",
       "      <td>1.371143</td>\n",
       "      <td>0.013286</td>\n",
       "      <td>0.400000</td>\n",
       "    </tr>\n",
       "    <tr>\n",
       "      <th>std</th>\n",
       "      <td>2020.870275</td>\n",
       "      <td>7.587700</td>\n",
       "      <td>0.496184</td>\n",
       "      <td>1.498128e+05</td>\n",
       "      <td>2.144922e+05</td>\n",
       "      <td>5.471932</td>\n",
       "      <td>2.189278</td>\n",
       "      <td>0.114504</td>\n",
       "      <td>0.489933</td>\n",
       "    </tr>\n",
       "    <tr>\n",
       "      <th>min</th>\n",
       "      <td>1.000000</td>\n",
       "      <td>21.000000</td>\n",
       "      <td>1.000000</td>\n",
       "      <td>1.678800e+05</td>\n",
       "      <td>4.733520e+05</td>\n",
       "      <td>0.000000</td>\n",
       "      <td>0.000000</td>\n",
       "      <td>0.000000</td>\n",
       "      <td>0.000000</td>\n",
       "    </tr>\n",
       "    <tr>\n",
       "      <th>25%</th>\n",
       "      <td>1750.750000</td>\n",
       "      <td>29.000000</td>\n",
       "      <td>1.000000</td>\n",
       "      <td>5.777880e+05</td>\n",
       "      <td>7.979010e+05</td>\n",
       "      <td>0.000000</td>\n",
       "      <td>0.000000</td>\n",
       "      <td>0.000000</td>\n",
       "      <td>0.000000</td>\n",
       "    </tr>\n",
       "    <tr>\n",
       "      <th>50%</th>\n",
       "      <td>3500.500000</td>\n",
       "      <td>36.000000</td>\n",
       "      <td>2.000000</td>\n",
       "      <td>6.571080e+05</td>\n",
       "      <td>8.584260e+05</td>\n",
       "      <td>0.000000</td>\n",
       "      <td>0.000000</td>\n",
       "      <td>0.000000</td>\n",
       "      <td>0.000000</td>\n",
       "    </tr>\n",
       "    <tr>\n",
       "      <th>75%</th>\n",
       "      <td>5250.250000</td>\n",
       "      <td>43.000000</td>\n",
       "      <td>2.000000</td>\n",
       "      <td>7.373640e+05</td>\n",
       "      <td>9.576750e+05</td>\n",
       "      <td>3.000000</td>\n",
       "      <td>2.000000</td>\n",
       "      <td>0.000000</td>\n",
       "      <td>1.000000</td>\n",
       "    </tr>\n",
       "    <tr>\n",
       "      <th>max</th>\n",
       "      <td>7000.000000</td>\n",
       "      <td>50.000000</td>\n",
       "      <td>2.000000</td>\n",
       "      <td>1.781376e+06</td>\n",
       "      <td>2.419200e+06</td>\n",
       "      <td>109.000000</td>\n",
       "      <td>33.000000</td>\n",
       "      <td>1.000000</td>\n",
       "      <td>1.000000</td>\n",
       "    </tr>\n",
       "  </tbody>\n",
       "</table>\n",
       "</div>\n",
       "      <button class=\"colab-df-convert\" onclick=\"convertToInteractive('df-de7bee61-9704-4207-877e-4d8222cb631b')\"\n",
       "              title=\"Convert this dataframe to an interactive table.\"\n",
       "              style=\"display:none;\">\n",
       "        \n",
       "  <svg xmlns=\"http://www.w3.org/2000/svg\" height=\"24px\"viewBox=\"0 0 24 24\"\n",
       "       width=\"24px\">\n",
       "    <path d=\"M0 0h24v24H0V0z\" fill=\"none\"/>\n",
       "    <path d=\"M18.56 5.44l.94 2.06.94-2.06 2.06-.94-2.06-.94-.94-2.06-.94 2.06-2.06.94zm-11 1L8.5 8.5l.94-2.06 2.06-.94-2.06-.94L8.5 2.5l-.94 2.06-2.06.94zm10 10l.94 2.06.94-2.06 2.06-.94-2.06-.94-.94-2.06-.94 2.06-2.06.94z\"/><path d=\"M17.41 7.96l-1.37-1.37c-.4-.4-.92-.59-1.43-.59-.52 0-1.04.2-1.43.59L10.3 9.45l-7.72 7.72c-.78.78-.78 2.05 0 2.83L4 21.41c.39.39.9.59 1.41.59.51 0 1.02-.2 1.41-.59l7.78-7.78 2.81-2.81c.8-.78.8-2.07 0-2.86zM5.41 20L4 18.59l7.72-7.72 1.47 1.35L5.41 20z\"/>\n",
       "  </svg>\n",
       "      </button>\n",
       "      \n",
       "  <style>\n",
       "    .colab-df-container {\n",
       "      display:flex;\n",
       "      flex-wrap:wrap;\n",
       "      gap: 12px;\n",
       "    }\n",
       "\n",
       "    .colab-df-convert {\n",
       "      background-color: #E8F0FE;\n",
       "      border: none;\n",
       "      border-radius: 50%;\n",
       "      cursor: pointer;\n",
       "      display: none;\n",
       "      fill: #1967D2;\n",
       "      height: 32px;\n",
       "      padding: 0 0 0 0;\n",
       "      width: 32px;\n",
       "    }\n",
       "\n",
       "    .colab-df-convert:hover {\n",
       "      background-color: #E2EBFA;\n",
       "      box-shadow: 0px 1px 2px rgba(60, 64, 67, 0.3), 0px 1px 3px 1px rgba(60, 64, 67, 0.15);\n",
       "      fill: #174EA6;\n",
       "    }\n",
       "\n",
       "    [theme=dark] .colab-df-convert {\n",
       "      background-color: #3B4455;\n",
       "      fill: #D2E3FC;\n",
       "    }\n",
       "\n",
       "    [theme=dark] .colab-df-convert:hover {\n",
       "      background-color: #434B5C;\n",
       "      box-shadow: 0px 1px 3px 1px rgba(0, 0, 0, 0.15);\n",
       "      filter: drop-shadow(0px 1px 2px rgba(0, 0, 0, 0.3));\n",
       "      fill: #FFFFFF;\n",
       "    }\n",
       "  </style>\n",
       "\n",
       "      <script>\n",
       "        const buttonEl =\n",
       "          document.querySelector('#df-de7bee61-9704-4207-877e-4d8222cb631b button.colab-df-convert');\n",
       "        buttonEl.style.display =\n",
       "          google.colab.kernel.accessAllowed ? 'block' : 'none';\n",
       "\n",
       "        async function convertToInteractive(key) {\n",
       "          const element = document.querySelector('#df-de7bee61-9704-4207-877e-4d8222cb631b');\n",
       "          const dataTable =\n",
       "            await google.colab.kernel.invokeFunction('convertToInteractive',\n",
       "                                                     [key], {});\n",
       "          if (!dataTable) return;\n",
       "\n",
       "          const docLinkHtml = 'Like what you see? Visit the ' +\n",
       "            '<a target=\"_blank\" href=https://colab.research.google.com/notebooks/data_table.ipynb>data table notebook</a>'\n",
       "            + ' to learn more about interactive tables.';\n",
       "          element.innerHTML = '';\n",
       "          dataTable['output_type'] = 'display_data';\n",
       "          await google.colab.output.renderOutput(dataTable, element);\n",
       "          const docLink = document.createElement('div');\n",
       "          docLink.innerHTML = docLinkHtml;\n",
       "          element.appendChild(docLink);\n",
       "        }\n",
       "      </script>\n",
       "    </div>\n",
       "  </div>\n",
       "  "
      ],
      "text/plain": [
       "           loan_id          age    education   loan_amount    asset_cost  \\\n",
       "count  7000.000000  7000.000000  6755.000000  7.000000e+03  7.000000e+03   \n",
       "mean   3500.500000    36.096571     1.561954  6.633552e+05  9.162998e+05   \n",
       "std    2020.870275     7.587700     0.496184  1.498128e+05  2.144922e+05   \n",
       "min       1.000000    21.000000     1.000000  1.678800e+05  4.733520e+05   \n",
       "25%    1750.750000    29.000000     1.000000  5.777880e+05  7.979010e+05   \n",
       "50%    3500.500000    36.000000     2.000000  6.571080e+05  8.584260e+05   \n",
       "75%    5250.250000    43.000000     2.000000  7.373640e+05  9.576750e+05   \n",
       "max    7000.000000    50.000000     2.000000  1.781376e+06  2.419200e+06   \n",
       "\n",
       "       no_of_loans  no_of_curr_loans  last_delinq_none  loan_default  \n",
       "count  7000.000000       7000.000000       7000.000000   7000.000000  \n",
       "mean      2.853286          1.371143          0.013286      0.400000  \n",
       "std       5.471932          2.189278          0.114504      0.489933  \n",
       "min       0.000000          0.000000          0.000000      0.000000  \n",
       "25%       0.000000          0.000000          0.000000      0.000000  \n",
       "50%       0.000000          0.000000          0.000000      0.000000  \n",
       "75%       3.000000          2.000000          0.000000      1.000000  \n",
       "max     109.000000         33.000000          1.000000      1.000000  "
      ]
     },
     "execution_count": 11,
     "metadata": {},
     "output_type": "execute_result"
    }
   ],
   "source": [
    "#statistics\n",
    "train_df.describe()"
   ]
  },
  {
   "cell_type": "code",
   "execution_count": 12,
   "metadata": {
    "colab": {
     "base_uri": "https://localhost:8080/"
    },
    "id": "jMMF3ynUWYHT",
    "outputId": "2904c49c-cf8a-45a9-c829-f3388326773a"
   },
   "outputs": [
    {
     "data": {
      "text/plain": [
       "0    0.6\n",
       "1    0.4\n",
       "Name: loan_default, dtype: float64"
      ]
     },
     "execution_count": 12,
     "metadata": {},
     "output_type": "execute_result"
    }
   ],
   "source": [
    "#quick look at target value\n",
    "train_df['loan_default'].value_counts(normalize=True)"
   ]
  },
  {
   "cell_type": "code",
   "execution_count": 13,
   "metadata": {
    "colab": {
     "base_uri": "https://localhost:8080/",
     "height": 280
    },
    "id": "aOB7PLIkWYDH",
    "outputId": "ab3587a0-f500-495c-d411-120677a7ff9e"
   },
   "outputs": [
    {
     "data": {
      "image/png": "[encoded data removed]",
      "text/plain": [
       "<Figure size 432x288 with 1 Axes>"
      ]
     },
     "metadata": {
      "needs_background": "light"
     },
     "output_type": "display_data"
    }
   ],
   "source": [
    "ax = sns.countplot(x=\"loan_default\", data=train_df)\n"
   ]
  },
  {
   "cell_type": "code",
   "execution_count": 14,
   "metadata": {
    "colab": {
     "base_uri": "https://localhost:8080/"
    },
    "id": "pSh-kPAJcrBw",
    "outputId": "8dc1b83e-4f14-46c5-a9b3-86aba6fc52a0"
   },
   "outputs": [
    {
     "data": {
      "text/plain": [
       "Aadhar      0.847286\n",
       "VoterID     0.101000\n",
       "PAN         0.033571\n",
       "Driving     0.016286\n",
       "Passport    0.001857\n",
       "Name: proof_submitted, dtype: float64"
      ]
     },
     "execution_count": 14,
     "metadata": {},
     "output_type": "execute_result"
    }
   ],
   "source": [
    "#check percentage of proof_submitted types\n",
    "train_df['proof_submitted'].value_counts(normalize=True)"
   ]
  },
  {
   "cell_type": "code",
   "execution_count": 15,
   "metadata": {
    "colab": {
     "base_uri": "https://localhost:8080/",
     "height": 280
    },
    "id": "q7HsGR3TWX9Z",
    "outputId": "e3ee6a95-9813-4279-ab20-10093ed29e7c"
   },
   "outputs": [
    {
     "data": {
      "image/png": "[encoded data removed]",
      "text/plain": [
       "<Figure size 432x288 with 1 Axes>"
      ]
     },
     "metadata": {
      "needs_background": "light"
     },
     "output_type": "display_data"
    }
   ],
   "source": [
    "#countplot for check types\n",
    "ax=sns.countplot(x='proof_submitted', data=train_df)"
   ]
  },
  {
   "cell_type": "code",
   "execution_count": 16,
   "metadata": {
    "colab": {
     "base_uri": "https://localhost:8080/"
    },
    "id": "3Vlrc-NWahzq",
    "outputId": "0e046c15-9b2b-40c1-ebb6-b1b1e9eb4e94"
   },
   "outputs": [
    {
     "data": {
      "text/plain": [
       "2.0    0.561954\n",
       "1.0    0.438046\n",
       "Name: education, dtype: float64"
      ]
     },
     "execution_count": 16,
     "metadata": {},
     "output_type": "execute_result"
    }
   ],
   "source": [
    "# percentage of education types\n",
    "train_df['education'].value_counts(normalize=True)"
   ]
  },
  {
   "cell_type": "code",
   "execution_count": 17,
   "metadata": {
    "colab": {
     "base_uri": "https://localhost:8080/",
     "height": 279
    },
    "id": "7yfIIL4LWX38",
    "outputId": "dea9ef34-b3cc-4f9e-8ed9-06af066277e0"
   },
   "outputs": [
    {
     "data": {
      "image/png": "[encoded data removed]",
      "text/plain": [
       "<Figure size 432x288 with 1 Axes>"
      ]
     },
     "metadata": {
      "needs_background": "light"
     },
     "output_type": "display_data"
    }
   ],
   "source": [
    "#count plot types of education\n",
    "ax=sns.countplot(x='education', data=train_df)"
   ]
  },
  {
   "cell_type": "code",
   "execution_count": 18,
   "metadata": {
    "colab": {
     "base_uri": "https://localhost:8080/"
    },
    "id": "b7XLmODl_16X",
    "outputId": "5c357972-4b16-41f8-fc44-c62d6c60cbc2"
   },
   "outputs": [
    {
     "data": {
      "text/plain": [
       "0    0.986714\n",
       "1    0.013286\n",
       "Name: last_delinq_none, dtype: float64"
      ]
     },
     "execution_count": 18,
     "metadata": {},
     "output_type": "execute_result"
    }
   ],
   "source": [
    "#check percentage of 0/1 in last_delinq_none column\n",
    "train_df['last_delinq_none'].value_counts(normalize=True)"
   ]
  },
  {
   "cell_type": "code",
   "execution_count": 19,
   "metadata": {
    "colab": {
     "base_uri": "https://localhost:8080/",
     "height": 280
    },
    "id": "3EnaaI1q_cgs",
    "outputId": "e9eeba10-05cd-4d7e-e6e3-3a85cc3fb787"
   },
   "outputs": [
    {
     "data": {
      "image/png": "[encoded data removed]",
      "text/plain": [
       "<Figure size 432x288 with 1 Axes>"
      ]
     },
     "metadata": {
      "needs_background": "light"
     },
     "output_type": "display_data"
    }
   ],
   "source": [
    "#distribution of 0/1 \n",
    "ax=sns.countplot(x='last_delinq_none', data=train_df)"
   ]
  },
  {
   "cell_type": "markdown",
   "metadata": {
    "id": "5NCwW52Ac91L"
   },
   "source": [
    "It can be inferred from the above bar plots that:\n",
    "\n",
    "*   Around 85% of 'proof_submitted' are Aadhar\n",
    "*   Around 10% of 'proof_submitted' are Aadhar\n",
    "*   PAN, Driving, Passport together are around 5% of 'proof_submitted'\n",
    "\n",
    "\n",
    "*   Around 56% of 'education' in the dataset are 2.0\n",
    "*   Around 44% of 'education' in the dataset are 1.0\n",
    "\n",
    "\n",
    "*   Around 99% of applicants has no the loan defaulted in at least one of the past loans\n",
    "*   Just 1% of applicants has the loan defaulted in at least one of the past loans\n",
    "\n",
    "\n",
    "\n",
    "\n",
    "\n",
    "\n"
   ]
  },
  {
   "cell_type": "code",
   "execution_count": 20,
   "metadata": {
    "colab": {
     "base_uri": "https://localhost:8080/",
     "height": 291
    },
    "id": "Lvl4iNb0WXxW",
    "outputId": "26ada9e0-36a2-4db0-bb69-ddf6db165d30"
   },
   "outputs": [
    {
     "data": {
      "image/png": "[encoded data removed]",
      "text/plain": [
       "<Figure size 432x288 with 1 Axes>"
      ]
     },
     "metadata": {
      "needs_background": "light"
     },
     "output_type": "display_data"
    }
   ],
   "source": [
    "# check for normal distribution\n",
    "ax=sns.distplot(train_df['loan_amount'])\n"
   ]
  },
  {
   "cell_type": "code",
   "execution_count": 21,
   "metadata": {
    "colab": {
     "base_uri": "https://localhost:8080/",
     "height": 280
    },
    "id": "zySAJp9-WXp5",
    "outputId": "f4939579-1a3d-4c27-e9c1-d4d321cc919d"
   },
   "outputs": [
    {
     "data": {
      "image/png": "[encoded data removed]",
      "text/plain": [
       "<Figure size 432x288 with 1 Axes>"
      ]
     },
     "metadata": {
      "needs_background": "light"
     },
     "output_type": "display_data"
    }
   ],
   "source": [
    "#check outliers\n",
    "ax=sns.boxplot(train_df['loan_amount'])"
   ]
  },
  {
   "cell_type": "code",
   "execution_count": 22,
   "metadata": {
    "colab": {
     "base_uri": "https://localhost:8080/",
     "height": 291
    },
    "id": "JNTcDCptWXiE",
    "outputId": "52871160-2f25-4af9-888d-ff12d49d1ed4"
   },
   "outputs": [
    {
     "data": {
      "image/png": "[encoded data removed]",
      "text/plain": [
       "<Figure size 432x288 with 1 Axes>"
      ]
     },
     "metadata": {
      "needs_background": "light"
     },
     "output_type": "display_data"
    }
   ],
   "source": [
    "# check for normal distribution\n",
    "ax=sns.distplot(train_df['asset_cost'])\n"
   ]
  },
  {
   "cell_type": "code",
   "execution_count": 23,
   "metadata": {
    "colab": {
     "base_uri": "https://localhost:8080/",
     "height": 280
    },
    "id": "aG858dY7WXaE",
    "outputId": "a441516b-7aac-41e1-b8f6-7443f9971958"
   },
   "outputs": [
    {
     "data": {
      "image/png": "[encoded data removed]",
      "text/plain": [
       "<Figure size 432x288 with 1 Axes>"
      ]
     },
     "metadata": {
      "needs_background": "light"
     },
     "output_type": "display_data"
    }
   ],
   "source": [
    "#check outliers\n",
    "ax=sns.boxplot(train_df['asset_cost'])\n"
   ]
  },
  {
   "cell_type": "code",
   "execution_count": 24,
   "metadata": {
    "colab": {
     "base_uri": "https://localhost:8080/",
     "height": 280
    },
    "id": "acPvqtKqWXRO",
    "outputId": "0b8aa707-72c9-4604-c024-b0bcf8ff778e"
   },
   "outputs": [
    {
     "data": {
      "image/png": "[encoded data removed]",
      "text/plain": [
       "<Figure size 432x288 with 1 Axes>"
      ]
     },
     "metadata": {
      "needs_background": "light"
     },
     "output_type": "display_data"
    }
   ],
   "source": [
    "# check for normal distribution\n",
    "ax=sns.distplot(train_df['no_of_loans'])"
   ]
  },
  {
   "cell_type": "code",
   "execution_count": 25,
   "metadata": {
    "colab": {
     "base_uri": "https://localhost:8080/",
     "height": 280
    },
    "id": "K6c8V9_eWXHd",
    "outputId": "0bc4421f-2f8f-4d34-b035-4ff352b7d60d"
   },
   "outputs": [
    {
     "data": {
      "image/png": "[encoded data removed]",
      "text/plain": [
       "<Figure size 432x288 with 1 Axes>"
      ]
     },
     "metadata": {
      "needs_background": "light"
     },
     "output_type": "display_data"
    }
   ],
   "source": [
    "#check outliers\n",
    "ax=sns.boxplot(train_df['no_of_loans'])"
   ]
  },
  {
   "cell_type": "code",
   "execution_count": 26,
   "metadata": {
    "colab": {
     "base_uri": "https://localhost:8080/",
     "height": 280
    },
    "id": "vew60yA0hrJs",
    "outputId": "8974e9d7-443c-47af-9534-522b72bc6ae8"
   },
   "outputs": [
    {
     "data": {
      "image/png": "[encoded data removed]",
      "text/plain": [
       "<Figure size 432x288 with 1 Axes>"
      ]
     },
     "metadata": {
      "needs_background": "light"
     },
     "output_type": "display_data"
    }
   ],
   "source": [
    "# check for normal distribution\n",
    "ax=sns.distplot(train_df['no_of_curr_loans'])"
   ]
  },
  {
   "cell_type": "code",
   "execution_count": 27,
   "metadata": {
    "colab": {
     "base_uri": "https://localhost:8080/",
     "height": 280
    },
    "id": "kZ51SGH_lKKx",
    "outputId": "e884b954-c8ae-4d1d-9bce-854f4068a6f9"
   },
   "outputs": [
    {
     "data": {
      "image/png": "[encoded data removed]",
      "text/plain": [
       "<Figure size 432x288 with 1 Axes>"
      ]
     },
     "metadata": {
      "needs_background": "light"
     },
     "output_type": "display_data"
    }
   ],
   "source": [
    "#check outliers\n",
    "ax=sns.boxplot(train_df['no_of_curr_loans'])"
   ]
  },
  {
   "cell_type": "markdown",
   "metadata": {
    "id": "x-GUdOxZl_ca"
   },
   "source": [
    "Bivariate Analysis...\n",
    "Check for correlation between features and target variables"
   ]
  },
  {
   "cell_type": "code",
   "execution_count": 28,
   "metadata": {
    "colab": {
     "base_uri": "https://localhost:8080/",
     "height": 303
    },
    "id": "Pinmt6TsmA9T",
    "outputId": "918019bd-acb4-4982-f846-f78aedc613f7"
   },
   "outputs": [
    {
     "data": {
      "text/plain": [
       "<matplotlib.axes._subplots.AxesSubplot at 0x7fe2f46964d0>"
      ]
     },
     "execution_count": 28,
     "metadata": {},
     "output_type": "execute_result"
    },
    {
     "data": {
      "image/png": "[encoded data removed]",
      "text/plain": [
       "<Figure size 288x288 with 1 Axes>"
      ]
     },
     "metadata": {
      "needs_background": "light"
     },
     "output_type": "display_data"
    }
   ],
   "source": [
    "ed=pd.crosstab(train_df['education'],train_df['loan_default']) \n",
    "ed.div(ed.sum(1).astype(float), axis=0).plot(kind=\"bar\", figsize=(4,4))"
   ]
  },
  {
   "cell_type": "code",
   "execution_count": 29,
   "metadata": {
    "colab": {
     "base_uri": "https://localhost:8080/",
     "height": 333
    },
    "id": "CUOG-OYbmA4r",
    "outputId": "a36c4417-1787-4823-c30f-a7180135821d"
   },
   "outputs": [
    {
     "data": {
      "text/plain": [
       "<matplotlib.axes._subplots.AxesSubplot at 0x7fe2f46ba490>"
      ]
     },
     "execution_count": 29,
     "metadata": {},
     "output_type": "execute_result"
    },
    {
     "data": {
      "image/png": "[encoded data removed]",
      "text/plain": [
       "<Figure size 288x288 with 1 Axes>"
      ]
     },
     "metadata": {
      "needs_background": "light"
     },
     "output_type": "display_data"
    }
   ],
   "source": [
    "ps=pd.crosstab(train_df['proof_submitted'],train_df['loan_default']) \n",
    "ps.div(ps.sum(1).astype(float), axis=0).plot(kind=\"bar\", figsize=(4,4))"
   ]
  },
  {
   "cell_type": "code",
   "execution_count": 30,
   "metadata": {
    "colab": {
     "base_uri": "https://localhost:8080/",
     "height": 295
    },
    "id": "Id1GwS03mAzy",
    "outputId": "c9b8a18d-2e06-4945-fe4a-a881cf24da40"
   },
   "outputs": [
    {
     "data": {
      "text/plain": [
       "<matplotlib.axes._subplots.AxesSubplot at 0x7fe2f48bc8d0>"
      ]
     },
     "execution_count": 30,
     "metadata": {},
     "output_type": "execute_result"
    },
    {
     "data": {
      "image/png": "[encoded data removed]",
      "text/plain": [
       "<Figure size 288x288 with 1 Axes>"
      ]
     },
     "metadata": {
      "needs_background": "light"
     },
     "output_type": "display_data"
    }
   ],
   "source": [
    "ldn=pd.crosstab(train_df['last_delinq_none'],train_df['loan_default']) \n",
    "ldn.div(ldn.sum(1).astype(float), axis=0).plot(kind=\"bar\", figsize=(4,4))"
   ]
  },
  {
   "cell_type": "markdown",
   "metadata": {
    "id": "VrhdhyhUKk00"
   },
   "source": [
    "'loan_default' is correlated with 'loan_amount' best"
   ]
  },
  {
   "cell_type": "code",
   "execution_count": 31,
   "metadata": {
    "colab": {
     "base_uri": "https://localhost:8080/",
     "height": 295
    },
    "id": "HmX5umC-mAcv",
    "outputId": "61c6fc56-95c2-426b-cb0b-d99bc5db72ae"
   },
   "outputs": [
    {
     "data": {
      "text/plain": [
       "<matplotlib.axes._subplots.AxesSubplot at 0x7fe2f4647a10>"
      ]
     },
     "execution_count": 31,
     "metadata": {},
     "output_type": "execute_result"
    },
    {
     "data": {
      "image/png": "[encoded data removed]",
      "text/plain": [
       "<Figure size 432x288 with 1 Axes>"
      ]
     },
     "metadata": {
      "needs_background": "light"
     },
     "output_type": "display_data"
    }
   ],
   "source": [
    "train_df.groupby('loan_default')['asset_cost'].mean().plot.bar()"
   ]
  },
  {
   "cell_type": "code",
   "execution_count": 32,
   "metadata": {
    "colab": {
     "base_uri": "https://localhost:8080/",
     "height": 206
    },
    "id": "wNf91XmjWrWZ",
    "outputId": "3df20c79-99d7-49f8-b49b-f14e4d1b4b2f"
   },
   "outputs": [
    {
     "data": {
      "text/html": [
       "\n",
       "  <div id=\"df-a2942ab9-2e9e-4844-8c32-73b5e3aafed9\">\n",
       "    <div class=\"colab-df-container\">\n",
       "      <div>\n",
       "<style scoped>\n",
       "    .dataframe tbody tr th:only-of-type {\n",
       "        vertical-align: middle;\n",
       "    }\n",
       "\n",
       "    .dataframe tbody tr th {\n",
       "        vertical-align: top;\n",
       "    }\n",
       "\n",
       "    .dataframe thead th {\n",
       "        text-align: right;\n",
       "    }\n",
       "</style>\n",
       "<table border=\"1\" class=\"dataframe\">\n",
       "  <thead>\n",
       "    <tr style=\"text-align: right;\">\n",
       "      <th></th>\n",
       "      <th>loan_id</th>\n",
       "      <th>age</th>\n",
       "      <th>education</th>\n",
       "      <th>proof_submitted</th>\n",
       "      <th>loan_amount</th>\n",
       "      <th>asset_cost</th>\n",
       "      <th>no_of_loans</th>\n",
       "      <th>no_of_curr_loans</th>\n",
       "      <th>last_delinq_none</th>\n",
       "      <th>loan_default</th>\n",
       "    </tr>\n",
       "  </thead>\n",
       "  <tbody>\n",
       "    <tr>\n",
       "      <th>0</th>\n",
       "      <td>1</td>\n",
       "      <td>27</td>\n",
       "      <td>1.0</td>\n",
       "      <td>Aadhar</td>\n",
       "      <td>504264</td>\n",
       "      <td>820920</td>\n",
       "      <td>2</td>\n",
       "      <td>2</td>\n",
       "      <td>0</td>\n",
       "      <td>0</td>\n",
       "    </tr>\n",
       "    <tr>\n",
       "      <th>1</th>\n",
       "      <td>2</td>\n",
       "      <td>48</td>\n",
       "      <td>1.0</td>\n",
       "      <td>Aadhar</td>\n",
       "      <td>728556</td>\n",
       "      <td>831444</td>\n",
       "      <td>6</td>\n",
       "      <td>2</td>\n",
       "      <td>0</td>\n",
       "      <td>0</td>\n",
       "    </tr>\n",
       "    <tr>\n",
       "      <th>2</th>\n",
       "      <td>3</td>\n",
       "      <td>30</td>\n",
       "      <td>2.0</td>\n",
       "      <td>VoterID</td>\n",
       "      <td>642936</td>\n",
       "      <td>826092</td>\n",
       "      <td>0</td>\n",
       "      <td>0</td>\n",
       "      <td>0</td>\n",
       "      <td>1</td>\n",
       "    </tr>\n",
       "    <tr>\n",
       "      <th>3</th>\n",
       "      <td>4</td>\n",
       "      <td>28</td>\n",
       "      <td>1.0</td>\n",
       "      <td>Aadhar</td>\n",
       "      <td>746556</td>\n",
       "      <td>930924</td>\n",
       "      <td>0</td>\n",
       "      <td>0</td>\n",
       "      <td>0</td>\n",
       "      <td>0</td>\n",
       "    </tr>\n",
       "    <tr>\n",
       "      <th>4</th>\n",
       "      <td>5</td>\n",
       "      <td>29</td>\n",
       "      <td>1.0</td>\n",
       "      <td>Aadhar</td>\n",
       "      <td>1139880</td>\n",
       "      <td>1902000</td>\n",
       "      <td>0</td>\n",
       "      <td>0</td>\n",
       "      <td>0</td>\n",
       "      <td>0</td>\n",
       "    </tr>\n",
       "  </tbody>\n",
       "</table>\n",
       "</div>\n",
       "      <button class=\"colab-df-convert\" onclick=\"convertToInteractive('df-a2942ab9-2e9e-4844-8c32-73b5e3aafed9')\"\n",
       "              title=\"Convert this dataframe to an interactive table.\"\n",
       "              style=\"display:none;\">\n",
       "        \n",
       "  <svg xmlns=\"http://www.w3.org/2000/svg\" height=\"24px\"viewBox=\"0 0 24 24\"\n",
       "       width=\"24px\">\n",
       "    <path d=\"M0 0h24v24H0V0z\" fill=\"none\"/>\n",
       "    <path d=\"M18.56 5.44l.94 2.06.94-2.06 2.06-.94-2.06-.94-.94-2.06-.94 2.06-2.06.94zm-11 1L8.5 8.5l.94-2.06 2.06-.94-2.06-.94L8.5 2.5l-.94 2.06-2.06.94zm10 10l.94 2.06.94-2.06 2.06-.94-2.06-.94-.94-2.06-.94 2.06-2.06.94z\"/><path d=\"M17.41 7.96l-1.37-1.37c-.4-.4-.92-.59-1.43-.59-.52 0-1.04.2-1.43.59L10.3 9.45l-7.72 7.72c-.78.78-.78 2.05 0 2.83L4 21.41c.39.39.9.59 1.41.59.51 0 1.02-.2 1.41-.59l7.78-7.78 2.81-2.81c.8-.78.8-2.07 0-2.86zM5.41 20L4 18.59l7.72-7.72 1.47 1.35L5.41 20z\"/>\n",
       "  </svg>\n",
       "      </button>\n",
       "      \n",
       "  <style>\n",
       "    .colab-df-container {\n",
       "      display:flex;\n",
       "      flex-wrap:wrap;\n",
       "      gap: 12px;\n",
       "    }\n",
       "\n",
       "    .colab-df-convert {\n",
       "      background-color: #E8F0FE;\n",
       "      border: none;\n",
       "      border-radius: 50%;\n",
       "      cursor: pointer;\n",
       "      display: none;\n",
       "      fill: #1967D2;\n",
       "      height: 32px;\n",
       "      padding: 0 0 0 0;\n",
       "      width: 32px;\n",
       "    }\n",
       "\n",
       "    .colab-df-convert:hover {\n",
       "      background-color: #E2EBFA;\n",
       "      box-shadow: 0px 1px 2px rgba(60, 64, 67, 0.3), 0px 1px 3px 1px rgba(60, 64, 67, 0.15);\n",
       "      fill: #174EA6;\n",
       "    }\n",
       "\n",
       "    [theme=dark] .colab-df-convert {\n",
       "      background-color: #3B4455;\n",
       "      fill: #D2E3FC;\n",
       "    }\n",
       "\n",
       "    [theme=dark] .colab-df-convert:hover {\n",
       "      background-color: #434B5C;\n",
       "      box-shadow: 0px 1px 3px 1px rgba(0, 0, 0, 0.15);\n",
       "      filter: drop-shadow(0px 1px 2px rgba(0, 0, 0, 0.3));\n",
       "      fill: #FFFFFF;\n",
       "    }\n",
       "  </style>\n",
       "\n",
       "      <script>\n",
       "        const buttonEl =\n",
       "          document.querySelector('#df-a2942ab9-2e9e-4844-8c32-73b5e3aafed9 button.colab-df-convert');\n",
       "        buttonEl.style.display =\n",
       "          google.colab.kernel.accessAllowed ? 'block' : 'none';\n",
       "\n",
       "        async function convertToInteractive(key) {\n",
       "          const element = document.querySelector('#df-a2942ab9-2e9e-4844-8c32-73b5e3aafed9');\n",
       "          const dataTable =\n",
       "            await google.colab.kernel.invokeFunction('convertToInteractive',\n",
       "                                                     [key], {});\n",
       "          if (!dataTable) return;\n",
       "\n",
       "          const docLinkHtml = 'Like what you see? Visit the ' +\n",
       "            '<a target=\"_blank\" href=https://colab.research.google.com/notebooks/data_table.ipynb>data table notebook</a>'\n",
       "            + ' to learn more about interactive tables.';\n",
       "          element.innerHTML = '';\n",
       "          dataTable['output_type'] = 'display_data';\n",
       "          await google.colab.output.renderOutput(dataTable, element);\n",
       "          const docLink = document.createElement('div');\n",
       "          docLink.innerHTML = docLinkHtml;\n",
       "          element.appendChild(docLink);\n",
       "        }\n",
       "      </script>\n",
       "    </div>\n",
       "  </div>\n",
       "  "
      ],
      "text/plain": [
       "   loan_id  age  education proof_submitted  loan_amount  asset_cost  \\\n",
       "0        1   27        1.0          Aadhar       504264      820920   \n",
       "1        2   48        1.0          Aadhar       728556      831444   \n",
       "2        3   30        2.0         VoterID       642936      826092   \n",
       "3        4   28        1.0          Aadhar       746556      930924   \n",
       "4        5   29        1.0          Aadhar      1139880     1902000   \n",
       "\n",
       "   no_of_loans  no_of_curr_loans  last_delinq_none  loan_default  \n",
       "0            2                 2                 0             0  \n",
       "1            6                 2                 0             0  \n",
       "2            0                 0                 0             1  \n",
       "3            0                 0                 0             0  \n",
       "4            0                 0                 0             0  "
      ]
     },
     "execution_count": 32,
     "metadata": {},
     "output_type": "execute_result"
    }
   ],
   "source": [
    "train_df.head()"
   ]
  },
  {
   "cell_type": "code",
   "execution_count": 33,
   "metadata": {
    "colab": {
     "base_uri": "https://localhost:8080/",
     "height": 332
    },
    "id": "PI01t1X8Mfhb",
    "outputId": "f4a5c695-8f9e-4d74-9521-787190820ebb"
   },
   "outputs": [
    {
     "data": {
      "text/html": [
       "<style type=\"text/css\">\n",
       "#T_68b13_row0_col0, #T_68b13_row1_col1, #T_68b13_row2_col2, #T_68b13_row3_col3, #T_68b13_row4_col4, #T_68b13_row5_col5, #T_68b13_row6_col6, #T_68b13_row7_col7, #T_68b13_row8_col8 {\n",
       "  background-color: #b40426;\n",
       "  color: #f1f1f1;\n",
       "}\n",
       "#T_68b13_row0_col1 {\n",
       "  background-color: #5875e1;\n",
       "  color: #f1f1f1;\n",
       "}\n",
       "#T_68b13_row0_col2, #T_68b13_row1_col3, #T_68b13_row1_col4, #T_68b13_row2_col0, #T_68b13_row4_col0, #T_68b13_row4_col1, #T_68b13_row4_col5, #T_68b13_row4_col6, #T_68b13_row4_col7, #T_68b13_row6_col8, #T_68b13_row8_col6 {\n",
       "  background-color: #3b4cc0;\n",
       "  color: #f1f1f1;\n",
       "}\n",
       "#T_68b13_row0_col3, #T_68b13_row6_col2, #T_68b13_row8_col7 {\n",
       "  background-color: #455cce;\n",
       "  color: #f1f1f1;\n",
       "}\n",
       "#T_68b13_row0_col4 {\n",
       "  background-color: #536edd;\n",
       "  color: #f1f1f1;\n",
       "}\n",
       "#T_68b13_row0_col5, #T_68b13_row3_col2, #T_68b13_row7_col0 {\n",
       "  background-color: #4358cb;\n",
       "  color: #f1f1f1;\n",
       "}\n",
       "#T_68b13_row0_col6 {\n",
       "  background-color: #465ecf;\n",
       "  color: #f1f1f1;\n",
       "}\n",
       "#T_68b13_row0_col7 {\n",
       "  background-color: #4055c8;\n",
       "  color: #f1f1f1;\n",
       "}\n",
       "#T_68b13_row0_col8, #T_68b13_row5_col3 {\n",
       "  background-color: #4e68d8;\n",
       "  color: #f1f1f1;\n",
       "}\n",
       "#T_68b13_row1_col0, #T_68b13_row6_col0 {\n",
       "  background-color: #3f53c6;\n",
       "  color: #f1f1f1;\n",
       "}\n",
       "#T_68b13_row1_col2 {\n",
       "  background-color: #6384eb;\n",
       "  color: #f1f1f1;\n",
       "}\n",
       "#T_68b13_row1_col5 {\n",
       "  background-color: #86a9fc;\n",
       "  color: #f1f1f1;\n",
       "}\n",
       "#T_68b13_row1_col6 {\n",
       "  background-color: #85a8fc;\n",
       "  color: #f1f1f1;\n",
       "}\n",
       "#T_68b13_row1_col7, #T_68b13_row8_col2 {\n",
       "  background-color: #506bda;\n",
       "  color: #f1f1f1;\n",
       "}\n",
       "#T_68b13_row1_col8 {\n",
       "  background-color: #4257c9;\n",
       "  color: #f1f1f1;\n",
       "}\n",
       "#T_68b13_row2_col1 {\n",
       "  background-color: #7b9ff9;\n",
       "  color: #f1f1f1;\n",
       "}\n",
       "#T_68b13_row2_col3, #T_68b13_row2_col7 {\n",
       "  background-color: #4961d2;\n",
       "  color: #f1f1f1;\n",
       "}\n",
       "#T_68b13_row2_col4 {\n",
       "  background-color: #7597f6;\n",
       "  color: #f1f1f1;\n",
       "}\n",
       "#T_68b13_row2_col5 {\n",
       "  background-color: #516ddb;\n",
       "  color: #f1f1f1;\n",
       "}\n",
       "#T_68b13_row2_col6, #T_68b13_row3_col1, #T_68b13_row5_col2 {\n",
       "  background-color: #4b64d5;\n",
       "  color: #f1f1f1;\n",
       "}\n",
       "#T_68b13_row2_col8 {\n",
       "  background-color: #5673e0;\n",
       "  color: #f1f1f1;\n",
       "}\n",
       "#T_68b13_row3_col0, #T_68b13_row3_col7 {\n",
       "  background-color: #3e51c5;\n",
       "  color: #f1f1f1;\n",
       "}\n",
       "#T_68b13_row3_col4 {\n",
       "  background-color: #f39475;\n",
       "  color: #000000;\n",
       "}\n",
       "#T_68b13_row3_col5, #T_68b13_row5_col4, #T_68b13_row6_col4, #T_68b13_row7_col2 {\n",
       "  background-color: #4c66d6;\n",
       "  color: #f1f1f1;\n",
       "}\n",
       "#T_68b13_row3_col6, #T_68b13_row6_col3, #T_68b13_row7_col8 {\n",
       "  background-color: #4f69d9;\n",
       "  color: #f1f1f1;\n",
       "}\n",
       "#T_68b13_row3_col8 {\n",
       "  background-color: #6e90f2;\n",
       "  color: #f1f1f1;\n",
       "}\n",
       "#T_68b13_row4_col2 {\n",
       "  background-color: #5e7de7;\n",
       "  color: #f1f1f1;\n",
       "}\n",
       "#T_68b13_row4_col3 {\n",
       "  background-color: #f49a7b;\n",
       "  color: #000000;\n",
       "}\n",
       "#T_68b13_row4_col8 {\n",
       "  background-color: #5977e3;\n",
       "  color: #f1f1f1;\n",
       "}\n",
       "#T_68b13_row5_col0, #T_68b13_row5_col8 {\n",
       "  background-color: #3d50c3;\n",
       "  color: #f1f1f1;\n",
       "}\n",
       "#T_68b13_row5_col1 {\n",
       "  background-color: #97b8ff;\n",
       "  color: #000000;\n",
       "}\n",
       "#T_68b13_row5_col6, #T_68b13_row6_col5 {\n",
       "  background-color: #f08a6c;\n",
       "  color: #f1f1f1;\n",
       "}\n",
       "#T_68b13_row5_col7 {\n",
       "  background-color: #8db0fe;\n",
       "  color: #000000;\n",
       "}\n",
       "#T_68b13_row6_col1 {\n",
       "  background-color: #96b7ff;\n",
       "  color: #000000;\n",
       "}\n",
       "#T_68b13_row6_col7 {\n",
       "  background-color: #9bbcff;\n",
       "  color: #000000;\n",
       "}\n",
       "#T_68b13_row7_col1 {\n",
       "  background-color: #6b8df0;\n",
       "  color: #f1f1f1;\n",
       "}\n",
       "#T_68b13_row7_col3, #T_68b13_row8_col0 {\n",
       "  background-color: #485fd1;\n",
       "  color: #f1f1f1;\n",
       "}\n",
       "#T_68b13_row7_col4 {\n",
       "  background-color: #5572df;\n",
       "  color: #f1f1f1;\n",
       "}\n",
       "#T_68b13_row7_col5 {\n",
       "  background-color: #94b6ff;\n",
       "  color: #000000;\n",
       "}\n",
       "#T_68b13_row7_col6 {\n",
       "  background-color: #a2c1ff;\n",
       "  color: #000000;\n",
       "}\n",
       "#T_68b13_row8_col1 {\n",
       "  background-color: #5470de;\n",
       "  color: #f1f1f1;\n",
       "}\n",
       "#T_68b13_row8_col3 {\n",
       "  background-color: #6f92f3;\n",
       "  color: #f1f1f1;\n",
       "}\n",
       "#T_68b13_row8_col4 {\n",
       "  background-color: #6a8bef;\n",
       "  color: #f1f1f1;\n",
       "}\n",
       "#T_68b13_row8_col5 {\n",
       "  background-color: #3c4ec2;\n",
       "  color: #f1f1f1;\n",
       "}\n",
       "</style>\n",
       "<table id=\"T_68b13_\" class=\"dataframe\">\n",
       "  <thead>\n",
       "    <tr>\n",
       "      <th class=\"blank level0\" >&nbsp;</th>\n",
       "      <th class=\"col_heading level0 col0\" >loan_id</th>\n",
       "      <th class=\"col_heading level0 col1\" >age</th>\n",
       "      <th class=\"col_heading level0 col2\" >education</th>\n",
       "      <th class=\"col_heading level0 col3\" >loan_amount</th>\n",
       "      <th class=\"col_heading level0 col4\" >asset_cost</th>\n",
       "      <th class=\"col_heading level0 col5\" >no_of_loans</th>\n",
       "      <th class=\"col_heading level0 col6\" >no_of_curr_loans</th>\n",
       "      <th class=\"col_heading level0 col7\" >last_delinq_none</th>\n",
       "      <th class=\"col_heading level0 col8\" >loan_default</th>\n",
       "    </tr>\n",
       "  </thead>\n",
       "  <tbody>\n",
       "    <tr>\n",
       "      <th id=\"T_68b13_level0_row0\" class=\"row_heading level0 row0\" >loan_id</th>\n",
       "      <td id=\"T_68b13_row0_col0\" class=\"data row0 col0\" >1.000000</td>\n",
       "      <td id=\"T_68b13_row0_col1\" class=\"data row0 col1\" >-0.017165</td>\n",
       "      <td id=\"T_68b13_row0_col2\" class=\"data row0 col2\" >-0.034615</td>\n",
       "      <td id=\"T_68b13_row0_col3\" class=\"data row0 col3\" >-0.020757</td>\n",
       "      <td id=\"T_68b13_row0_col4\" class=\"data row0 col4\" >-0.032053</td>\n",
       "      <td id=\"T_68b13_row0_col5\" class=\"data row0 col5\" >-0.023589</td>\n",
       "      <td id=\"T_68b13_row0_col6\" class=\"data row0 col6\" >-0.015454</td>\n",
       "      <td id=\"T_68b13_row0_col7\" class=\"data row0 col7\" >-0.002829</td>\n",
       "      <td id=\"T_68b13_row0_col8\" class=\"data row0 col8\" >0.011921</td>\n",
       "    </tr>\n",
       "    <tr>\n",
       "      <th id=\"T_68b13_level0_row1\" class=\"row_heading level0 row1\" >age</th>\n",
       "      <td id=\"T_68b13_row1_col0\" class=\"data row1 col0\" >-0.017165</td>\n",
       "      <td id=\"T_68b13_row1_col1\" class=\"data row1 col1\" >1.000000</td>\n",
       "      <td id=\"T_68b13_row1_col2\" class=\"data row1 col2\" >0.102063</td>\n",
       "      <td id=\"T_68b13_row1_col3\" class=\"data row1 col3\" >-0.058011</td>\n",
       "      <td id=\"T_68b13_row1_col4\" class=\"data row1 col4\" >-0.122741</td>\n",
       "      <td id=\"T_68b13_row1_col5\" class=\"data row1 col5\" >0.193026</td>\n",
       "      <td id=\"T_68b13_row1_col6\" class=\"data row1 col6\" >0.184503</td>\n",
       "      <td id=\"T_68b13_row1_col7\" class=\"data row1 col7\" >0.050325</td>\n",
       "      <td id=\"T_68b13_row1_col8\" class=\"data row1 col8\" >-0.029571</td>\n",
       "    </tr>\n",
       "    <tr>\n",
       "      <th id=\"T_68b13_level0_row2\" class=\"row_heading level0 row2\" >education</th>\n",
       "      <td id=\"T_68b13_row2_col0\" class=\"data row2 col0\" >-0.034615</td>\n",
       "      <td id=\"T_68b13_row2_col1\" class=\"data row2 col1\" >0.102063</td>\n",
       "      <td id=\"T_68b13_row2_col2\" class=\"data row2 col2\" >1.000000</td>\n",
       "      <td id=\"T_68b13_row2_col3\" class=\"data row2 col3\" >-0.004588</td>\n",
       "      <td id=\"T_68b13_row2_col4\" class=\"data row2 col4\" >0.083221</td>\n",
       "      <td id=\"T_68b13_row2_col5\" class=\"data row2 col5\" >0.025889</td>\n",
       "      <td id=\"T_68b13_row2_col6\" class=\"data row2 col6\" >0.004606</td>\n",
       "      <td id=\"T_68b13_row2_col7\" class=\"data row2 col7\" >0.026516</td>\n",
       "      <td id=\"T_68b13_row2_col8\" class=\"data row2 col8\" >0.041701</td>\n",
       "    </tr>\n",
       "    <tr>\n",
       "      <th id=\"T_68b13_level0_row3\" class=\"row_heading level0 row3\" >loan_amount</th>\n",
       "      <td id=\"T_68b13_row3_col0\" class=\"data row3 col0\" >-0.020757</td>\n",
       "      <td id=\"T_68b13_row3_col1\" class=\"data row3 col1\" >-0.058011</td>\n",
       "      <td id=\"T_68b13_row3_col2\" class=\"data row3 col2\" >-0.004588</td>\n",
       "      <td id=\"T_68b13_row3_col3\" class=\"data row3 col3\" >1.000000</td>\n",
       "      <td id=\"T_68b13_row3_col4\" class=\"data row3 col4\" >0.735176</td>\n",
       "      <td id=\"T_68b13_row3_col5\" class=\"data row3 col5\" >0.010867</td>\n",
       "      <td id=\"T_68b13_row3_col6\" class=\"data row3 col6\" >0.014788</td>\n",
       "      <td id=\"T_68b13_row3_col7\" class=\"data row3 col7\" >-0.009412</td>\n",
       "      <td id=\"T_68b13_row3_col8\" class=\"data row3 col8\" >0.115736</td>\n",
       "    </tr>\n",
       "    <tr>\n",
       "      <th id=\"T_68b13_level0_row4\" class=\"row_heading level0 row4\" >asset_cost</th>\n",
       "      <td id=\"T_68b13_row4_col0\" class=\"data row4 col0\" >-0.032053</td>\n",
       "      <td id=\"T_68b13_row4_col1\" class=\"data row4 col1\" >-0.122741</td>\n",
       "      <td id=\"T_68b13_row4_col2\" class=\"data row4 col2\" >0.083221</td>\n",
       "      <td id=\"T_68b13_row4_col3\" class=\"data row4 col3\" >0.735176</td>\n",
       "      <td id=\"T_68b13_row4_col4\" class=\"data row4 col4\" >1.000000</td>\n",
       "      <td id=\"T_68b13_row4_col5\" class=\"data row4 col5\" >-0.052643</td>\n",
       "      <td id=\"T_68b13_row4_col6\" class=\"data row4 col6\" >-0.054021</td>\n",
       "      <td id=\"T_68b13_row4_col7\" class=\"data row4 col7\" >-0.023489</td>\n",
       "      <td id=\"T_68b13_row4_col8\" class=\"data row4 col8\" >0.048020</td>\n",
       "    </tr>\n",
       "    <tr>\n",
       "      <th id=\"T_68b13_level0_row5\" class=\"row_heading level0 row5\" >no_of_loans</th>\n",
       "      <td id=\"T_68b13_row5_col0\" class=\"data row5 col0\" >-0.023589</td>\n",
       "      <td id=\"T_68b13_row5_col1\" class=\"data row5 col1\" >0.193026</td>\n",
       "      <td id=\"T_68b13_row5_col2\" class=\"data row5 col2\" >0.025889</td>\n",
       "      <td id=\"T_68b13_row5_col3\" class=\"data row5 col3\" >0.010867</td>\n",
       "      <td id=\"T_68b13_row5_col4\" class=\"data row5 col4\" >-0.052643</td>\n",
       "      <td id=\"T_68b13_row5_col5\" class=\"data row5 col5\" >1.000000</td>\n",
       "      <td id=\"T_68b13_row5_col6\" class=\"data row5 col6\" >0.774705</td>\n",
       "      <td id=\"T_68b13_row5_col7\" class=\"data row5 col7\" >0.235024</td>\n",
       "      <td id=\"T_68b13_row5_col8\" class=\"data row5 col8\" >-0.045738</td>\n",
       "    </tr>\n",
       "    <tr>\n",
       "      <th id=\"T_68b13_level0_row6\" class=\"row_heading level0 row6\" >no_of_curr_loans</th>\n",
       "      <td id=\"T_68b13_row6_col0\" class=\"data row6 col0\" >-0.015454</td>\n",
       "      <td id=\"T_68b13_row6_col1\" class=\"data row6 col1\" >0.184503</td>\n",
       "      <td id=\"T_68b13_row6_col2\" class=\"data row6 col2\" >0.004606</td>\n",
       "      <td id=\"T_68b13_row6_col3\" class=\"data row6 col3\" >0.014788</td>\n",
       "      <td id=\"T_68b13_row6_col4\" class=\"data row6 col4\" >-0.054021</td>\n",
       "      <td id=\"T_68b13_row6_col5\" class=\"data row6 col5\" >0.774705</td>\n",
       "      <td id=\"T_68b13_row6_col6\" class=\"data row6 col6\" >1.000000</td>\n",
       "      <td id=\"T_68b13_row6_col7\" class=\"data row6 col7\" >0.272716</td>\n",
       "      <td id=\"T_68b13_row6_col8\" class=\"data row6 col8\" >-0.057306</td>\n",
       "    </tr>\n",
       "    <tr>\n",
       "      <th id=\"T_68b13_level0_row7\" class=\"row_heading level0 row7\" >last_delinq_none</th>\n",
       "      <td id=\"T_68b13_row7_col0\" class=\"data row7 col0\" >-0.002829</td>\n",
       "      <td id=\"T_68b13_row7_col1\" class=\"data row7 col1\" >0.050325</td>\n",
       "      <td id=\"T_68b13_row7_col2\" class=\"data row7 col2\" >0.026516</td>\n",
       "      <td id=\"T_68b13_row7_col3\" class=\"data row7 col3\" >-0.009412</td>\n",
       "      <td id=\"T_68b13_row7_col4\" class=\"data row7 col4\" >-0.023489</td>\n",
       "      <td id=\"T_68b13_row7_col5\" class=\"data row7 col5\" >0.235024</td>\n",
       "      <td id=\"T_68b13_row7_col6\" class=\"data row7 col6\" >0.272716</td>\n",
       "      <td id=\"T_68b13_row7_col7\" class=\"data row7 col7\" >1.000000</td>\n",
       "      <td id=\"T_68b13_row7_col8\" class=\"data row7 col8\" >0.014772</td>\n",
       "    </tr>\n",
       "    <tr>\n",
       "      <th id=\"T_68b13_level0_row8\" class=\"row_heading level0 row8\" >loan_default</th>\n",
       "      <td id=\"T_68b13_row8_col0\" class=\"data row8 col0\" >0.011921</td>\n",
       "      <td id=\"T_68b13_row8_col1\" class=\"data row8 col1\" >-0.029571</td>\n",
       "      <td id=\"T_68b13_row8_col2\" class=\"data row8 col2\" >0.041701</td>\n",
       "      <td id=\"T_68b13_row8_col3\" class=\"data row8 col3\" >0.115736</td>\n",
       "      <td id=\"T_68b13_row8_col4\" class=\"data row8 col4\" >0.048020</td>\n",
       "      <td id=\"T_68b13_row8_col5\" class=\"data row8 col5\" >-0.045738</td>\n",
       "      <td id=\"T_68b13_row8_col6\" class=\"data row8 col6\" >-0.057306</td>\n",
       "      <td id=\"T_68b13_row8_col7\" class=\"data row8 col7\" >0.014772</td>\n",
       "      <td id=\"T_68b13_row8_col8\" class=\"data row8 col8\" >1.000000</td>\n",
       "    </tr>\n",
       "  </tbody>\n",
       "</table>\n"
      ],
      "text/plain": [
       "<pandas.io.formats.style.Styler at 0x7fe2f46dba50>"
      ]
     },
     "execution_count": 33,
     "metadata": {},
     "output_type": "execute_result"
    }
   ],
   "source": [
    "#correlation matrix\n",
    "corr = train_df.corr()\n",
    "corr.style.background_gradient(cmap='coolwarm')\n"
   ]
  },
  {
   "cell_type": "code",
   "execution_count": 34,
   "metadata": {
    "colab": {
     "base_uri": "https://localhost:8080/"
    },
    "id": "gF8fqLb4o717",
    "outputId": "3d7eb2c1-f7fc-4e1f-c24b-12217452b8ce"
   },
   "outputs": [
    {
     "data": {
      "text/plain": [
       "loan_id               0\n",
       "age                   0\n",
       "education           245\n",
       "proof_submitted       0\n",
       "loan_amount           0\n",
       "asset_cost            0\n",
       "no_of_loans           0\n",
       "no_of_curr_loans      0\n",
       "last_delinq_none      0\n",
       "loan_default          0\n",
       "dtype: int64"
      ]
     },
     "execution_count": 34,
     "metadata": {},
     "output_type": "execute_result"
    }
   ],
   "source": [
    "train_df.isnull().sum()"
   ]
  },
  {
   "cell_type": "code",
   "execution_count": 35,
   "metadata": {
    "colab": {
     "base_uri": "https://localhost:8080/"
    },
    "id": "QRTVMiG6o7v6",
    "outputId": "d89c5b3d-c3c6-44b8-de1d-fd709f6f82b7"
   },
   "outputs": [
    {
     "data": {
      "text/plain": [
       "Index(['loan_id', 'age', 'education', 'proof_submitted', 'loan_amount',\n",
       "       'asset_cost', 'no_of_loans', 'no_of_curr_loans', 'last_delinq_none',\n",
       "       'loan_default'],\n",
       "      dtype='object')"
      ]
     },
     "execution_count": 35,
     "metadata": {},
     "output_type": "execute_result"
    }
   ],
   "source": [
    "train_df.columns"
   ]
  },
  {
   "cell_type": "code",
   "execution_count": 36,
   "metadata": {
    "colab": {
     "base_uri": "https://localhost:8080/"
    },
    "id": "Fw1Or8iNo7hw",
    "outputId": "b85bb5b4-58e2-46ea-a6af-b8b5b2f26aba"
   },
   "outputs": [
    {
     "data": {
      "text/plain": [
       "loan_id               int64\n",
       "age                   int64\n",
       "education           float64\n",
       "proof_submitted      object\n",
       "loan_amount           int64\n",
       "asset_cost            int64\n",
       "no_of_loans           int64\n",
       "no_of_curr_loans      int64\n",
       "last_delinq_none      int64\n",
       "loan_default          int64\n",
       "dtype: object"
      ]
     },
     "execution_count": 36,
     "metadata": {},
     "output_type": "execute_result"
    }
   ],
   "source": [
    "train_df.dtypes"
   ]
  },
  {
   "cell_type": "code",
   "execution_count": 37,
   "metadata": {
    "colab": {
     "base_uri": "https://localhost:8080/",
     "height": 206
    },
    "id": "oFxZ7HPDa6ZT",
    "outputId": "3d9462d0-2758-479f-d69a-be2c71b73887"
   },
   "outputs": [
    {
     "data": {
      "text/html": [
       "\n",
       "  <div id=\"df-e555e690-c7df-4efd-8552-831a26135c5a\">\n",
       "    <div class=\"colab-df-container\">\n",
       "      <div>\n",
       "<style scoped>\n",
       "    .dataframe tbody tr th:only-of-type {\n",
       "        vertical-align: middle;\n",
       "    }\n",
       "\n",
       "    .dataframe tbody tr th {\n",
       "        vertical-align: top;\n",
       "    }\n",
       "\n",
       "    .dataframe thead th {\n",
       "        text-align: right;\n",
       "    }\n",
       "</style>\n",
       "<table border=\"1\" class=\"dataframe\">\n",
       "  <thead>\n",
       "    <tr style=\"text-align: right;\">\n",
       "      <th></th>\n",
       "      <th>loan_id</th>\n",
       "      <th>age</th>\n",
       "      <th>education</th>\n",
       "      <th>proof_submitted</th>\n",
       "      <th>loan_amount</th>\n",
       "      <th>asset_cost</th>\n",
       "      <th>no_of_loans</th>\n",
       "      <th>no_of_curr_loans</th>\n",
       "      <th>last_delinq_none</th>\n",
       "      <th>loan_default</th>\n",
       "    </tr>\n",
       "  </thead>\n",
       "  <tbody>\n",
       "    <tr>\n",
       "      <th>0</th>\n",
       "      <td>1</td>\n",
       "      <td>27</td>\n",
       "      <td>1.0</td>\n",
       "      <td>Aadhar</td>\n",
       "      <td>504264</td>\n",
       "      <td>820920</td>\n",
       "      <td>2</td>\n",
       "      <td>2</td>\n",
       "      <td>0</td>\n",
       "      <td>0</td>\n",
       "    </tr>\n",
       "    <tr>\n",
       "      <th>1</th>\n",
       "      <td>2</td>\n",
       "      <td>48</td>\n",
       "      <td>1.0</td>\n",
       "      <td>Aadhar</td>\n",
       "      <td>728556</td>\n",
       "      <td>831444</td>\n",
       "      <td>6</td>\n",
       "      <td>2</td>\n",
       "      <td>0</td>\n",
       "      <td>0</td>\n",
       "    </tr>\n",
       "    <tr>\n",
       "      <th>2</th>\n",
       "      <td>3</td>\n",
       "      <td>30</td>\n",
       "      <td>2.0</td>\n",
       "      <td>VoterID</td>\n",
       "      <td>642936</td>\n",
       "      <td>826092</td>\n",
       "      <td>0</td>\n",
       "      <td>0</td>\n",
       "      <td>0</td>\n",
       "      <td>1</td>\n",
       "    </tr>\n",
       "    <tr>\n",
       "      <th>3</th>\n",
       "      <td>4</td>\n",
       "      <td>28</td>\n",
       "      <td>1.0</td>\n",
       "      <td>Aadhar</td>\n",
       "      <td>746556</td>\n",
       "      <td>930924</td>\n",
       "      <td>0</td>\n",
       "      <td>0</td>\n",
       "      <td>0</td>\n",
       "      <td>0</td>\n",
       "    </tr>\n",
       "    <tr>\n",
       "      <th>4</th>\n",
       "      <td>5</td>\n",
       "      <td>29</td>\n",
       "      <td>1.0</td>\n",
       "      <td>Aadhar</td>\n",
       "      <td>1139880</td>\n",
       "      <td>1902000</td>\n",
       "      <td>0</td>\n",
       "      <td>0</td>\n",
       "      <td>0</td>\n",
       "      <td>0</td>\n",
       "    </tr>\n",
       "  </tbody>\n",
       "</table>\n",
       "</div>\n",
       "      <button class=\"colab-df-convert\" onclick=\"convertToInteractive('df-e555e690-c7df-4efd-8552-831a26135c5a')\"\n",
       "              title=\"Convert this dataframe to an interactive table.\"\n",
       "              style=\"display:none;\">\n",
       "        \n",
       "  <svg xmlns=\"http://www.w3.org/2000/svg\" height=\"24px\"viewBox=\"0 0 24 24\"\n",
       "       width=\"24px\">\n",
       "    <path d=\"M0 0h24v24H0V0z\" fill=\"none\"/>\n",
       "    <path d=\"M18.56 5.44l.94 2.06.94-2.06 2.06-.94-2.06-.94-.94-2.06-.94 2.06-2.06.94zm-11 1L8.5 8.5l.94-2.06 2.06-.94-2.06-.94L8.5 2.5l-.94 2.06-2.06.94zm10 10l.94 2.06.94-2.06 2.06-.94-2.06-.94-.94-2.06-.94 2.06-2.06.94z\"/><path d=\"M17.41 7.96l-1.37-1.37c-.4-.4-.92-.59-1.43-.59-.52 0-1.04.2-1.43.59L10.3 9.45l-7.72 7.72c-.78.78-.78 2.05 0 2.83L4 21.41c.39.39.9.59 1.41.59.51 0 1.02-.2 1.41-.59l7.78-7.78 2.81-2.81c.8-.78.8-2.07 0-2.86zM5.41 20L4 18.59l7.72-7.72 1.47 1.35L5.41 20z\"/>\n",
       "  </svg>\n",
       "      </button>\n",
       "      \n",
       "  <style>\n",
       "    .colab-df-container {\n",
       "      display:flex;\n",
       "      flex-wrap:wrap;\n",
       "      gap: 12px;\n",
       "    }\n",
       "\n",
       "    .colab-df-convert {\n",
       "      background-color: #E8F0FE;\n",
       "      border: none;\n",
       "      border-radius: 50%;\n",
       "      cursor: pointer;\n",
       "      display: none;\n",
       "      fill: #1967D2;\n",
       "      height: 32px;\n",
       "      padding: 0 0 0 0;\n",
       "      width: 32px;\n",
       "    }\n",
       "\n",
       "    .colab-df-convert:hover {\n",
       "      background-color: #E2EBFA;\n",
       "      box-shadow: 0px 1px 2px rgba(60, 64, 67, 0.3), 0px 1px 3px 1px rgba(60, 64, 67, 0.15);\n",
       "      fill: #174EA6;\n",
       "    }\n",
       "\n",
       "    [theme=dark] .colab-df-convert {\n",
       "      background-color: #3B4455;\n",
       "      fill: #D2E3FC;\n",
       "    }\n",
       "\n",
       "    [theme=dark] .colab-df-convert:hover {\n",
       "      background-color: #434B5C;\n",
       "      box-shadow: 0px 1px 3px 1px rgba(0, 0, 0, 0.15);\n",
       "      filter: drop-shadow(0px 1px 2px rgba(0, 0, 0, 0.3));\n",
       "      fill: #FFFFFF;\n",
       "    }\n",
       "  </style>\n",
       "\n",
       "      <script>\n",
       "        const buttonEl =\n",
       "          document.querySelector('#df-e555e690-c7df-4efd-8552-831a26135c5a button.colab-df-convert');\n",
       "        buttonEl.style.display =\n",
       "          google.colab.kernel.accessAllowed ? 'block' : 'none';\n",
       "\n",
       "        async function convertToInteractive(key) {\n",
       "          const element = document.querySelector('#df-e555e690-c7df-4efd-8552-831a26135c5a');\n",
       "          const dataTable =\n",
       "            await google.colab.kernel.invokeFunction('convertToInteractive',\n",
       "                                                     [key], {});\n",
       "          if (!dataTable) return;\n",
       "\n",
       "          const docLinkHtml = 'Like what you see? Visit the ' +\n",
       "            '<a target=\"_blank\" href=https://colab.research.google.com/notebooks/data_table.ipynb>data table notebook</a>'\n",
       "            + ' to learn more about interactive tables.';\n",
       "          element.innerHTML = '';\n",
       "          dataTable['output_type'] = 'display_data';\n",
       "          await google.colab.output.renderOutput(dataTable, element);\n",
       "          const docLink = document.createElement('div');\n",
       "          docLink.innerHTML = docLinkHtml;\n",
       "          element.appendChild(docLink);\n",
       "        }\n",
       "      </script>\n",
       "    </div>\n",
       "  </div>\n",
       "  "
      ],
      "text/plain": [
       "   loan_id  age  education proof_submitted  loan_amount  asset_cost  \\\n",
       "0        1   27        1.0          Aadhar       504264      820920   \n",
       "1        2   48        1.0          Aadhar       728556      831444   \n",
       "2        3   30        2.0         VoterID       642936      826092   \n",
       "3        4   28        1.0          Aadhar       746556      930924   \n",
       "4        5   29        1.0          Aadhar      1139880     1902000   \n",
       "\n",
       "   no_of_loans  no_of_curr_loans  last_delinq_none  loan_default  \n",
       "0            2                 2                 0             0  \n",
       "1            6                 2                 0             0  \n",
       "2            0                 0                 0             1  \n",
       "3            0                 0                 0             0  \n",
       "4            0                 0                 0             0  "
      ]
     },
     "execution_count": 37,
     "metadata": {},
     "output_type": "execute_result"
    }
   ],
   "source": [
    "train_df.head()"
   ]
  },
  {
   "cell_type": "code",
   "execution_count": 38,
   "metadata": {
    "colab": {
     "base_uri": "https://localhost:8080/"
    },
    "id": "sIrsmsy5sJQD",
    "outputId": "1a01ef15-741a-4abc-876a-3029af45f9ed"
   },
   "outputs": [
    {
     "data": {
      "text/plain": [
       "6755"
      ]
     },
     "execution_count": 38,
     "metadata": {},
     "output_type": "execute_result"
    }
   ],
   "source": [
    "train_df['education'].count()"
   ]
  },
  {
   "cell_type": "code",
   "execution_count": 39,
   "metadata": {
    "colab": {
     "base_uri": "https://localhost:8080/"
    },
    "id": "kgHNzK3TsJNk",
    "outputId": "4f25f436-c826-4b40-b938-1c24d2054bd3"
   },
   "outputs": [
    {
     "data": {
      "text/plain": [
       "array([ 1.,  2., nan])"
      ]
     },
     "execution_count": 39,
     "metadata": {},
     "output_type": "execute_result"
    }
   ],
   "source": [
    "train_df['education'].unique()"
   ]
  },
  {
   "cell_type": "code",
   "execution_count": 40,
   "metadata": {
    "colab": {
     "base_uri": "https://localhost:8080/",
     "height": 285
    },
    "id": "Lqd5Ek7osJK4",
    "outputId": "6e9d186e-ba53-4356-f3ca-10a03cec90e7"
   },
   "outputs": [
    {
     "data": {
      "image/png": "[encoded data removed]",
      "text/plain": [
       "<Figure size 432x288 with 1 Axes>"
      ]
     },
     "metadata": {},
     "output_type": "display_data"
    }
   ],
   "source": [
    "import seaborn as sns\n",
    "sns.set_theme(style=\"whitegrid\")\n",
    "ax = sns.barplot(x=\"education\", y=\"age\", data=train_df)\n"
   ]
  },
  {
   "cell_type": "code",
   "execution_count": 41,
   "metadata": {
    "colab": {
     "base_uri": "https://localhost:8080/"
    },
    "id": "DxKueSIFsJIK",
    "outputId": "b9621e74-167c-4651-cf3d-51852fc5786f"
   },
   "outputs": [
    {
     "data": {
      "text/plain": [
       "array([27, 48, 30, 28, 29, 34, 46, 32, 36, 25, 38, 40, 41, 44, 47, 33, 42,\n",
       "       26, 45, 37, 31, 43, 49, 35, 24, 50, 39, 23, 22, 21])"
      ]
     },
     "execution_count": 41,
     "metadata": {},
     "output_type": "execute_result"
    }
   ],
   "source": [
    "train_df['age'].unique()"
   ]
  },
  {
   "cell_type": "code",
   "execution_count": 42,
   "metadata": {
    "colab": {
     "base_uri": "https://localhost:8080/",
     "height": 295
    },
    "id": "bVxogyyjsJFk",
    "outputId": "ad7151ad-8575-4ba9-f5f1-0b15fcaade38"
   },
   "outputs": [
    {
     "data": {
      "image/png": "[encoded data removed]",
      "text/plain": [
       "<Figure size 432x288 with 1 Axes>"
      ]
     },
     "metadata": {},
     "output_type": "display_data"
    }
   ],
   "source": [
    "sns.boxplot(x=\"education\", y=\"age\", data=train_df)\n",
    "sns.despine(offset=10, trim=True)"
   ]
  },
  {
   "cell_type": "code",
   "execution_count": 43,
   "metadata": {
    "colab": {
     "base_uri": "https://localhost:8080/",
     "height": 1000
    },
    "id": "0IokrZsPsJDJ",
    "outputId": "e841054e-36fe-4158-e857-1a1e489b3634"
   },
   "outputs": [
    {
     "data": {
      "text/html": [
       "\n",
       "  <div id=\"df-a5096810-bbd9-4359-af4d-69f4678ccd29\">\n",
       "    <div class=\"colab-df-container\">\n",
       "      <div>\n",
       "<style scoped>\n",
       "    .dataframe tbody tr th:only-of-type {\n",
       "        vertical-align: middle;\n",
       "    }\n",
       "\n",
       "    .dataframe tbody tr th {\n",
       "        vertical-align: top;\n",
       "    }\n",
       "\n",
       "    .dataframe thead th {\n",
       "        text-align: right;\n",
       "    }\n",
       "</style>\n",
       "<table border=\"1\" class=\"dataframe\">\n",
       "  <thead>\n",
       "    <tr style=\"text-align: right;\">\n",
       "      <th></th>\n",
       "      <th></th>\n",
       "      <th>loan_id</th>\n",
       "      <th>proof_submitted</th>\n",
       "      <th>loan_amount</th>\n",
       "      <th>asset_cost</th>\n",
       "      <th>no_of_loans</th>\n",
       "      <th>no_of_curr_loans</th>\n",
       "      <th>last_delinq_none</th>\n",
       "      <th>loan_default</th>\n",
       "    </tr>\n",
       "    <tr>\n",
       "      <th>education</th>\n",
       "      <th>age</th>\n",
       "      <th></th>\n",
       "      <th></th>\n",
       "      <th></th>\n",
       "      <th></th>\n",
       "      <th></th>\n",
       "      <th></th>\n",
       "      <th></th>\n",
       "      <th></th>\n",
       "    </tr>\n",
       "  </thead>\n",
       "  <tbody>\n",
       "    <tr>\n",
       "      <th rowspan=\"27\" valign=\"top\">1.0</th>\n",
       "      <th>24</th>\n",
       "      <td>28</td>\n",
       "      <td>28</td>\n",
       "      <td>28</td>\n",
       "      <td>28</td>\n",
       "      <td>28</td>\n",
       "      <td>28</td>\n",
       "      <td>28</td>\n",
       "      <td>28</td>\n",
       "    </tr>\n",
       "    <tr>\n",
       "      <th>25</th>\n",
       "      <td>145</td>\n",
       "      <td>145</td>\n",
       "      <td>145</td>\n",
       "      <td>145</td>\n",
       "      <td>145</td>\n",
       "      <td>145</td>\n",
       "      <td>145</td>\n",
       "      <td>145</td>\n",
       "    </tr>\n",
       "    <tr>\n",
       "      <th>26</th>\n",
       "      <td>176</td>\n",
       "      <td>176</td>\n",
       "      <td>176</td>\n",
       "      <td>176</td>\n",
       "      <td>176</td>\n",
       "      <td>176</td>\n",
       "      <td>176</td>\n",
       "      <td>176</td>\n",
       "    </tr>\n",
       "    <tr>\n",
       "      <th>27</th>\n",
       "      <td>167</td>\n",
       "      <td>167</td>\n",
       "      <td>167</td>\n",
       "      <td>167</td>\n",
       "      <td>167</td>\n",
       "      <td>167</td>\n",
       "      <td>167</td>\n",
       "      <td>167</td>\n",
       "    </tr>\n",
       "    <tr>\n",
       "      <th>28</th>\n",
       "      <td>163</td>\n",
       "      <td>163</td>\n",
       "      <td>163</td>\n",
       "      <td>163</td>\n",
       "      <td>163</td>\n",
       "      <td>163</td>\n",
       "      <td>163</td>\n",
       "      <td>163</td>\n",
       "    </tr>\n",
       "    <tr>\n",
       "      <th>29</th>\n",
       "      <td>162</td>\n",
       "      <td>162</td>\n",
       "      <td>162</td>\n",
       "      <td>162</td>\n",
       "      <td>162</td>\n",
       "      <td>162</td>\n",
       "      <td>162</td>\n",
       "      <td>162</td>\n",
       "    </tr>\n",
       "    <tr>\n",
       "      <th>30</th>\n",
       "      <td>128</td>\n",
       "      <td>128</td>\n",
       "      <td>128</td>\n",
       "      <td>128</td>\n",
       "      <td>128</td>\n",
       "      <td>128</td>\n",
       "      <td>128</td>\n",
       "      <td>128</td>\n",
       "    </tr>\n",
       "    <tr>\n",
       "      <th>31</th>\n",
       "      <td>122</td>\n",
       "      <td>122</td>\n",
       "      <td>122</td>\n",
       "      <td>122</td>\n",
       "      <td>122</td>\n",
       "      <td>122</td>\n",
       "      <td>122</td>\n",
       "      <td>122</td>\n",
       "    </tr>\n",
       "    <tr>\n",
       "      <th>32</th>\n",
       "      <td>132</td>\n",
       "      <td>132</td>\n",
       "      <td>132</td>\n",
       "      <td>132</td>\n",
       "      <td>132</td>\n",
       "      <td>132</td>\n",
       "      <td>132</td>\n",
       "      <td>132</td>\n",
       "    </tr>\n",
       "    <tr>\n",
       "      <th>33</th>\n",
       "      <td>127</td>\n",
       "      <td>127</td>\n",
       "      <td>127</td>\n",
       "      <td>127</td>\n",
       "      <td>127</td>\n",
       "      <td>127</td>\n",
       "      <td>127</td>\n",
       "      <td>127</td>\n",
       "    </tr>\n",
       "    <tr>\n",
       "      <th>34</th>\n",
       "      <td>120</td>\n",
       "      <td>120</td>\n",
       "      <td>120</td>\n",
       "      <td>120</td>\n",
       "      <td>120</td>\n",
       "      <td>120</td>\n",
       "      <td>120</td>\n",
       "      <td>120</td>\n",
       "    </tr>\n",
       "    <tr>\n",
       "      <th>35</th>\n",
       "      <td>115</td>\n",
       "      <td>115</td>\n",
       "      <td>115</td>\n",
       "      <td>115</td>\n",
       "      <td>115</td>\n",
       "      <td>115</td>\n",
       "      <td>115</td>\n",
       "      <td>115</td>\n",
       "    </tr>\n",
       "    <tr>\n",
       "      <th>36</th>\n",
       "      <td>99</td>\n",
       "      <td>99</td>\n",
       "      <td>99</td>\n",
       "      <td>99</td>\n",
       "      <td>99</td>\n",
       "      <td>99</td>\n",
       "      <td>99</td>\n",
       "      <td>99</td>\n",
       "    </tr>\n",
       "    <tr>\n",
       "      <th>37</th>\n",
       "      <td>107</td>\n",
       "      <td>107</td>\n",
       "      <td>107</td>\n",
       "      <td>107</td>\n",
       "      <td>107</td>\n",
       "      <td>107</td>\n",
       "      <td>107</td>\n",
       "      <td>107</td>\n",
       "    </tr>\n",
       "    <tr>\n",
       "      <th>38</th>\n",
       "      <td>104</td>\n",
       "      <td>104</td>\n",
       "      <td>104</td>\n",
       "      <td>104</td>\n",
       "      <td>104</td>\n",
       "      <td>104</td>\n",
       "      <td>104</td>\n",
       "      <td>104</td>\n",
       "    </tr>\n",
       "    <tr>\n",
       "      <th>39</th>\n",
       "      <td>104</td>\n",
       "      <td>104</td>\n",
       "      <td>104</td>\n",
       "      <td>104</td>\n",
       "      <td>104</td>\n",
       "      <td>104</td>\n",
       "      <td>104</td>\n",
       "      <td>104</td>\n",
       "    </tr>\n",
       "    <tr>\n",
       "      <th>40</th>\n",
       "      <td>84</td>\n",
       "      <td>84</td>\n",
       "      <td>84</td>\n",
       "      <td>84</td>\n",
       "      <td>84</td>\n",
       "      <td>84</td>\n",
       "      <td>84</td>\n",
       "      <td>84</td>\n",
       "    </tr>\n",
       "    <tr>\n",
       "      <th>41</th>\n",
       "      <td>93</td>\n",
       "      <td>93</td>\n",
       "      <td>93</td>\n",
       "      <td>93</td>\n",
       "      <td>93</td>\n",
       "      <td>93</td>\n",
       "      <td>93</td>\n",
       "      <td>93</td>\n",
       "    </tr>\n",
       "    <tr>\n",
       "      <th>42</th>\n",
       "      <td>87</td>\n",
       "      <td>87</td>\n",
       "      <td>87</td>\n",
       "      <td>87</td>\n",
       "      <td>87</td>\n",
       "      <td>87</td>\n",
       "      <td>87</td>\n",
       "      <td>87</td>\n",
       "    </tr>\n",
       "    <tr>\n",
       "      <th>43</th>\n",
       "      <td>79</td>\n",
       "      <td>79</td>\n",
       "      <td>79</td>\n",
       "      <td>79</td>\n",
       "      <td>79</td>\n",
       "      <td>79</td>\n",
       "      <td>79</td>\n",
       "      <td>79</td>\n",
       "    </tr>\n",
       "    <tr>\n",
       "      <th>44</th>\n",
       "      <td>94</td>\n",
       "      <td>94</td>\n",
       "      <td>94</td>\n",
       "      <td>94</td>\n",
       "      <td>94</td>\n",
       "      <td>94</td>\n",
       "      <td>94</td>\n",
       "      <td>94</td>\n",
       "    </tr>\n",
       "    <tr>\n",
       "      <th>45</th>\n",
       "      <td>104</td>\n",
       "      <td>104</td>\n",
       "      <td>104</td>\n",
       "      <td>104</td>\n",
       "      <td>104</td>\n",
       "      <td>104</td>\n",
       "      <td>104</td>\n",
       "      <td>104</td>\n",
       "    </tr>\n",
       "    <tr>\n",
       "      <th>46</th>\n",
       "      <td>103</td>\n",
       "      <td>103</td>\n",
       "      <td>103</td>\n",
       "      <td>103</td>\n",
       "      <td>103</td>\n",
       "      <td>103</td>\n",
       "      <td>103</td>\n",
       "      <td>103</td>\n",
       "    </tr>\n",
       "    <tr>\n",
       "      <th>47</th>\n",
       "      <td>109</td>\n",
       "      <td>109</td>\n",
       "      <td>109</td>\n",
       "      <td>109</td>\n",
       "      <td>109</td>\n",
       "      <td>109</td>\n",
       "      <td>109</td>\n",
       "      <td>109</td>\n",
       "    </tr>\n",
       "    <tr>\n",
       "      <th>48</th>\n",
       "      <td>108</td>\n",
       "      <td>108</td>\n",
       "      <td>108</td>\n",
       "      <td>108</td>\n",
       "      <td>108</td>\n",
       "      <td>108</td>\n",
       "      <td>108</td>\n",
       "      <td>108</td>\n",
       "    </tr>\n",
       "    <tr>\n",
       "      <th>49</th>\n",
       "      <td>68</td>\n",
       "      <td>68</td>\n",
       "      <td>68</td>\n",
       "      <td>68</td>\n",
       "      <td>68</td>\n",
       "      <td>68</td>\n",
       "      <td>68</td>\n",
       "      <td>68</td>\n",
       "    </tr>\n",
       "    <tr>\n",
       "      <th>50</th>\n",
       "      <td>31</td>\n",
       "      <td>31</td>\n",
       "      <td>31</td>\n",
       "      <td>31</td>\n",
       "      <td>31</td>\n",
       "      <td>31</td>\n",
       "      <td>31</td>\n",
       "      <td>31</td>\n",
       "    </tr>\n",
       "    <tr>\n",
       "      <th rowspan=\"27\" valign=\"top\">2.0</th>\n",
       "      <th>24</th>\n",
       "      <td>33</td>\n",
       "      <td>33</td>\n",
       "      <td>33</td>\n",
       "      <td>33</td>\n",
       "      <td>33</td>\n",
       "      <td>33</td>\n",
       "      <td>33</td>\n",
       "      <td>33</td>\n",
       "    </tr>\n",
       "    <tr>\n",
       "      <th>25</th>\n",
       "      <td>111</td>\n",
       "      <td>111</td>\n",
       "      <td>111</td>\n",
       "      <td>111</td>\n",
       "      <td>111</td>\n",
       "      <td>111</td>\n",
       "      <td>111</td>\n",
       "      <td>111</td>\n",
       "    </tr>\n",
       "    <tr>\n",
       "      <th>26</th>\n",
       "      <td>142</td>\n",
       "      <td>142</td>\n",
       "      <td>142</td>\n",
       "      <td>142</td>\n",
       "      <td>142</td>\n",
       "      <td>142</td>\n",
       "      <td>142</td>\n",
       "      <td>142</td>\n",
       "    </tr>\n",
       "    <tr>\n",
       "      <th>27</th>\n",
       "      <td>128</td>\n",
       "      <td>128</td>\n",
       "      <td>128</td>\n",
       "      <td>128</td>\n",
       "      <td>128</td>\n",
       "      <td>128</td>\n",
       "      <td>128</td>\n",
       "      <td>128</td>\n",
       "    </tr>\n",
       "    <tr>\n",
       "      <th>28</th>\n",
       "      <td>172</td>\n",
       "      <td>172</td>\n",
       "      <td>172</td>\n",
       "      <td>172</td>\n",
       "      <td>172</td>\n",
       "      <td>172</td>\n",
       "      <td>172</td>\n",
       "      <td>172</td>\n",
       "    </tr>\n",
       "    <tr>\n",
       "      <th>29</th>\n",
       "      <td>160</td>\n",
       "      <td>160</td>\n",
       "      <td>160</td>\n",
       "      <td>160</td>\n",
       "      <td>160</td>\n",
       "      <td>160</td>\n",
       "      <td>160</td>\n",
       "      <td>160</td>\n",
       "    </tr>\n",
       "    <tr>\n",
       "      <th>30</th>\n",
       "      <td>152</td>\n",
       "      <td>152</td>\n",
       "      <td>152</td>\n",
       "      <td>152</td>\n",
       "      <td>152</td>\n",
       "      <td>152</td>\n",
       "      <td>152</td>\n",
       "      <td>152</td>\n",
       "    </tr>\n",
       "    <tr>\n",
       "      <th>31</th>\n",
       "      <td>154</td>\n",
       "      <td>154</td>\n",
       "      <td>154</td>\n",
       "      <td>154</td>\n",
       "      <td>154</td>\n",
       "      <td>154</td>\n",
       "      <td>154</td>\n",
       "      <td>154</td>\n",
       "    </tr>\n",
       "    <tr>\n",
       "      <th>32</th>\n",
       "      <td>151</td>\n",
       "      <td>151</td>\n",
       "      <td>151</td>\n",
       "      <td>151</td>\n",
       "      <td>151</td>\n",
       "      <td>151</td>\n",
       "      <td>151</td>\n",
       "      <td>151</td>\n",
       "    </tr>\n",
       "    <tr>\n",
       "      <th>33</th>\n",
       "      <td>153</td>\n",
       "      <td>153</td>\n",
       "      <td>153</td>\n",
       "      <td>153</td>\n",
       "      <td>153</td>\n",
       "      <td>153</td>\n",
       "      <td>153</td>\n",
       "      <td>153</td>\n",
       "    </tr>\n",
       "    <tr>\n",
       "      <th>34</th>\n",
       "      <td>156</td>\n",
       "      <td>156</td>\n",
       "      <td>156</td>\n",
       "      <td>156</td>\n",
       "      <td>156</td>\n",
       "      <td>156</td>\n",
       "      <td>156</td>\n",
       "      <td>156</td>\n",
       "    </tr>\n",
       "    <tr>\n",
       "      <th>35</th>\n",
       "      <td>153</td>\n",
       "      <td>153</td>\n",
       "      <td>153</td>\n",
       "      <td>153</td>\n",
       "      <td>153</td>\n",
       "      <td>153</td>\n",
       "      <td>153</td>\n",
       "      <td>153</td>\n",
       "    </tr>\n",
       "    <tr>\n",
       "      <th>36</th>\n",
       "      <td>163</td>\n",
       "      <td>163</td>\n",
       "      <td>163</td>\n",
       "      <td>163</td>\n",
       "      <td>163</td>\n",
       "      <td>163</td>\n",
       "      <td>163</td>\n",
       "      <td>163</td>\n",
       "    </tr>\n",
       "    <tr>\n",
       "      <th>37</th>\n",
       "      <td>168</td>\n",
       "      <td>168</td>\n",
       "      <td>168</td>\n",
       "      <td>168</td>\n",
       "      <td>168</td>\n",
       "      <td>168</td>\n",
       "      <td>168</td>\n",
       "      <td>168</td>\n",
       "    </tr>\n",
       "    <tr>\n",
       "      <th>38</th>\n",
       "      <td>139</td>\n",
       "      <td>139</td>\n",
       "      <td>139</td>\n",
       "      <td>139</td>\n",
       "      <td>139</td>\n",
       "      <td>139</td>\n",
       "      <td>139</td>\n",
       "      <td>139</td>\n",
       "    </tr>\n",
       "    <tr>\n",
       "      <th>39</th>\n",
       "      <td>125</td>\n",
       "      <td>125</td>\n",
       "      <td>125</td>\n",
       "      <td>125</td>\n",
       "      <td>125</td>\n",
       "      <td>125</td>\n",
       "      <td>125</td>\n",
       "      <td>125</td>\n",
       "    </tr>\n",
       "    <tr>\n",
       "      <th>40</th>\n",
       "      <td>154</td>\n",
       "      <td>154</td>\n",
       "      <td>154</td>\n",
       "      <td>154</td>\n",
       "      <td>154</td>\n",
       "      <td>154</td>\n",
       "      <td>154</td>\n",
       "      <td>154</td>\n",
       "    </tr>\n",
       "    <tr>\n",
       "      <th>41</th>\n",
       "      <td>135</td>\n",
       "      <td>135</td>\n",
       "      <td>135</td>\n",
       "      <td>135</td>\n",
       "      <td>135</td>\n",
       "      <td>135</td>\n",
       "      <td>135</td>\n",
       "      <td>135</td>\n",
       "    </tr>\n",
       "    <tr>\n",
       "      <th>42</th>\n",
       "      <td>158</td>\n",
       "      <td>158</td>\n",
       "      <td>158</td>\n",
       "      <td>158</td>\n",
       "      <td>158</td>\n",
       "      <td>158</td>\n",
       "      <td>158</td>\n",
       "      <td>158</td>\n",
       "    </tr>\n",
       "    <tr>\n",
       "      <th>43</th>\n",
       "      <td>139</td>\n",
       "      <td>139</td>\n",
       "      <td>139</td>\n",
       "      <td>139</td>\n",
       "      <td>139</td>\n",
       "      <td>139</td>\n",
       "      <td>139</td>\n",
       "      <td>139</td>\n",
       "    </tr>\n",
       "    <tr>\n",
       "      <th>44</th>\n",
       "      <td>143</td>\n",
       "      <td>143</td>\n",
       "      <td>143</td>\n",
       "      <td>143</td>\n",
       "      <td>143</td>\n",
       "      <td>143</td>\n",
       "      <td>143</td>\n",
       "      <td>143</td>\n",
       "    </tr>\n",
       "    <tr>\n",
       "      <th>45</th>\n",
       "      <td>174</td>\n",
       "      <td>174</td>\n",
       "      <td>174</td>\n",
       "      <td>174</td>\n",
       "      <td>174</td>\n",
       "      <td>174</td>\n",
       "      <td>174</td>\n",
       "      <td>174</td>\n",
       "    </tr>\n",
       "    <tr>\n",
       "      <th>46</th>\n",
       "      <td>150</td>\n",
       "      <td>150</td>\n",
       "      <td>150</td>\n",
       "      <td>150</td>\n",
       "      <td>150</td>\n",
       "      <td>150</td>\n",
       "      <td>150</td>\n",
       "      <td>150</td>\n",
       "    </tr>\n",
       "    <tr>\n",
       "      <th>47</th>\n",
       "      <td>179</td>\n",
       "      <td>179</td>\n",
       "      <td>179</td>\n",
       "      <td>179</td>\n",
       "      <td>179</td>\n",
       "      <td>179</td>\n",
       "      <td>179</td>\n",
       "      <td>179</td>\n",
       "    </tr>\n",
       "    <tr>\n",
       "      <th>48</th>\n",
       "      <td>139</td>\n",
       "      <td>139</td>\n",
       "      <td>139</td>\n",
       "      <td>139</td>\n",
       "      <td>139</td>\n",
       "      <td>139</td>\n",
       "      <td>139</td>\n",
       "      <td>139</td>\n",
       "    </tr>\n",
       "    <tr>\n",
       "      <th>49</th>\n",
       "      <td>111</td>\n",
       "      <td>111</td>\n",
       "      <td>111</td>\n",
       "      <td>111</td>\n",
       "      <td>111</td>\n",
       "      <td>111</td>\n",
       "      <td>111</td>\n",
       "      <td>111</td>\n",
       "    </tr>\n",
       "    <tr>\n",
       "      <th>50</th>\n",
       "      <td>54</td>\n",
       "      <td>54</td>\n",
       "      <td>54</td>\n",
       "      <td>54</td>\n",
       "      <td>54</td>\n",
       "      <td>54</td>\n",
       "      <td>54</td>\n",
       "      <td>54</td>\n",
       "    </tr>\n",
       "  </tbody>\n",
       "</table>\n",
       "</div>\n",
       "      <button class=\"colab-df-convert\" onclick=\"convertToInteractive('df-a5096810-bbd9-4359-af4d-69f4678ccd29')\"\n",
       "              title=\"Convert this dataframe to an interactive table.\"\n",
       "              style=\"display:none;\">\n",
       "        \n",
       "  <svg xmlns=\"http://www.w3.org/2000/svg\" height=\"24px\"viewBox=\"0 0 24 24\"\n",
       "       width=\"24px\">\n",
       "    <path d=\"M0 0h24v24H0V0z\" fill=\"none\"/>\n",
       "    <path d=\"M18.56 5.44l.94 2.06.94-2.06 2.06-.94-2.06-.94-.94-2.06-.94 2.06-2.06.94zm-11 1L8.5 8.5l.94-2.06 2.06-.94-2.06-.94L8.5 2.5l-.94 2.06-2.06.94zm10 10l.94 2.06.94-2.06 2.06-.94-2.06-.94-.94-2.06-.94 2.06-2.06.94z\"/><path d=\"M17.41 7.96l-1.37-1.37c-.4-.4-.92-.59-1.43-.59-.52 0-1.04.2-1.43.59L10.3 9.45l-7.72 7.72c-.78.78-.78 2.05 0 2.83L4 21.41c.39.39.9.59 1.41.59.51 0 1.02-.2 1.41-.59l7.78-7.78 2.81-2.81c.8-.78.8-2.07 0-2.86zM5.41 20L4 18.59l7.72-7.72 1.47 1.35L5.41 20z\"/>\n",
       "  </svg>\n",
       "      </button>\n",
       "      \n",
       "  <style>\n",
       "    .colab-df-container {\n",
       "      display:flex;\n",
       "      flex-wrap:wrap;\n",
       "      gap: 12px;\n",
       "    }\n",
       "\n",
       "    .colab-df-convert {\n",
       "      background-color: #E8F0FE;\n",
       "      border: none;\n",
       "      border-radius: 50%;\n",
       "      cursor: pointer;\n",
       "      display: none;\n",
       "      fill: #1967D2;\n",
       "      height: 32px;\n",
       "      padding: 0 0 0 0;\n",
       "      width: 32px;\n",
       "    }\n",
       "\n",
       "    .colab-df-convert:hover {\n",
       "      background-color: #E2EBFA;\n",
       "      box-shadow: 0px 1px 2px rgba(60, 64, 67, 0.3), 0px 1px 3px 1px rgba(60, 64, 67, 0.15);\n",
       "      fill: #174EA6;\n",
       "    }\n",
       "\n",
       "    [theme=dark] .colab-df-convert {\n",
       "      background-color: #3B4455;\n",
       "      fill: #D2E3FC;\n",
       "    }\n",
       "\n",
       "    [theme=dark] .colab-df-convert:hover {\n",
       "      background-color: #434B5C;\n",
       "      box-shadow: 0px 1px 3px 1px rgba(0, 0, 0, 0.15);\n",
       "      filter: drop-shadow(0px 1px 2px rgba(0, 0, 0, 0.3));\n",
       "      fill: #FFFFFF;\n",
       "    }\n",
       "  </style>\n",
       "\n",
       "      <script>\n",
       "        const buttonEl =\n",
       "          document.querySelector('#df-a5096810-bbd9-4359-af4d-69f4678ccd29 button.colab-df-convert');\n",
       "        buttonEl.style.display =\n",
       "          google.colab.kernel.accessAllowed ? 'block' : 'none';\n",
       "\n",
       "        async function convertToInteractive(key) {\n",
       "          const element = document.querySelector('#df-a5096810-bbd9-4359-af4d-69f4678ccd29');\n",
       "          const dataTable =\n",
       "            await google.colab.kernel.invokeFunction('convertToInteractive',\n",
       "                                                     [key], {});\n",
       "          if (!dataTable) return;\n",
       "\n",
       "          const docLinkHtml = 'Like what you see? Visit the ' +\n",
       "            '<a target=\"_blank\" href=https://colab.research.google.com/notebooks/data_table.ipynb>data table notebook</a>'\n",
       "            + ' to learn more about interactive tables.';\n",
       "          element.innerHTML = '';\n",
       "          dataTable['output_type'] = 'display_data';\n",
       "          await google.colab.output.renderOutput(dataTable, element);\n",
       "          const docLink = document.createElement('div');\n",
       "          docLink.innerHTML = docLinkHtml;\n",
       "          element.appendChild(docLink);\n",
       "        }\n",
       "      </script>\n",
       "    </div>\n",
       "  </div>\n",
       "  "
      ],
      "text/plain": [
       "               loan_id  proof_submitted  loan_amount  asset_cost  no_of_loans  \\\n",
       "education age                                                                   \n",
       "1.0       24        28               28           28          28           28   \n",
       "          25       145              145          145         145          145   \n",
       "          26       176              176          176         176          176   \n",
       "          27       167              167          167         167          167   \n",
       "          28       163              163          163         163          163   \n",
       "          29       162              162          162         162          162   \n",
       "          30       128              128          128         128          128   \n",
       "          31       122              122          122         122          122   \n",
       "          32       132              132          132         132          132   \n",
       "          33       127              127          127         127          127   \n",
       "          34       120              120          120         120          120   \n",
       "          35       115              115          115         115          115   \n",
       "          36        99               99           99          99           99   \n",
       "          37       107              107          107         107          107   \n",
       "          38       104              104          104         104          104   \n",
       "          39       104              104          104         104          104   \n",
       "          40        84               84           84          84           84   \n",
       "          41        93               93           93          93           93   \n",
       "          42        87               87           87          87           87   \n",
       "          43        79               79           79          79           79   \n",
       "          44        94               94           94          94           94   \n",
       "          45       104              104          104         104          104   \n",
       "          46       103              103          103         103          103   \n",
       "          47       109              109          109         109          109   \n",
       "          48       108              108          108         108          108   \n",
       "          49        68               68           68          68           68   \n",
       "          50        31               31           31          31           31   \n",
       "2.0       24        33               33           33          33           33   \n",
       "          25       111              111          111         111          111   \n",
       "          26       142              142          142         142          142   \n",
       "          27       128              128          128         128          128   \n",
       "          28       172              172          172         172          172   \n",
       "          29       160              160          160         160          160   \n",
       "          30       152              152          152         152          152   \n",
       "          31       154              154          154         154          154   \n",
       "          32       151              151          151         151          151   \n",
       "          33       153              153          153         153          153   \n",
       "          34       156              156          156         156          156   \n",
       "          35       153              153          153         153          153   \n",
       "          36       163              163          163         163          163   \n",
       "          37       168              168          168         168          168   \n",
       "          38       139              139          139         139          139   \n",
       "          39       125              125          125         125          125   \n",
       "          40       154              154          154         154          154   \n",
       "          41       135              135          135         135          135   \n",
       "          42       158              158          158         158          158   \n",
       "          43       139              139          139         139          139   \n",
       "          44       143              143          143         143          143   \n",
       "          45       174              174          174         174          174   \n",
       "          46       150              150          150         150          150   \n",
       "          47       179              179          179         179          179   \n",
       "          48       139              139          139         139          139   \n",
       "          49       111              111          111         111          111   \n",
       "          50        54               54           54          54           54   \n",
       "\n",
       "               no_of_curr_loans  last_delinq_none  loan_default  \n",
       "education age                                                    \n",
       "1.0       24                 28                28            28  \n",
       "          25                145               145           145  \n",
       "          26                176               176           176  \n",
       "          27                167               167           167  \n",
       "          28                163               163           163  \n",
       "          29                162               162           162  \n",
       "          30                128               128           128  \n",
       "          31                122               122           122  \n",
       "          32                132               132           132  \n",
       "          33                127               127           127  \n",
       "          34                120               120           120  \n",
       "          35                115               115           115  \n",
       "          36                 99                99            99  \n",
       "          37                107               107           107  \n",
       "          38                104               104           104  \n",
       "          39                104               104           104  \n",
       "          40                 84                84            84  \n",
       "          41                 93                93            93  \n",
       "          42                 87                87            87  \n",
       "          43                 79                79            79  \n",
       "          44                 94                94            94  \n",
       "          45                104               104           104  \n",
       "          46                103               103           103  \n",
       "          47                109               109           109  \n",
       "          48                108               108           108  \n",
       "          49                 68                68            68  \n",
       "          50                 31                31            31  \n",
       "2.0       24                 33                33            33  \n",
       "          25                111               111           111  \n",
       "          26                142               142           142  \n",
       "          27                128               128           128  \n",
       "          28                172               172           172  \n",
       "          29                160               160           160  \n",
       "          30                152               152           152  \n",
       "          31                154               154           154  \n",
       "          32                151               151           151  \n",
       "          33                153               153           153  \n",
       "          34                156               156           156  \n",
       "          35                153               153           153  \n",
       "          36                163               163           163  \n",
       "          37                168               168           168  \n",
       "          38                139               139           139  \n",
       "          39                125               125           125  \n",
       "          40                154               154           154  \n",
       "          41                135               135           135  \n",
       "          42                158               158           158  \n",
       "          43                139               139           139  \n",
       "          44                143               143           143  \n",
       "          45                174               174           174  \n",
       "          46                150               150           150  \n",
       "          47                179               179           179  \n",
       "          48                139               139           139  \n",
       "          49                111               111           111  \n",
       "          50                 54                54            54  "
      ]
     },
     "execution_count": 43,
     "metadata": {},
     "output_type": "execute_result"
    }
   ],
   "source": [
    "train_df.groupby( [ \"education\", \"age\"] ).count()"
   ]
  },
  {
   "cell_type": "code",
   "execution_count": 44,
   "metadata": {
    "colab": {
     "base_uri": "https://localhost:8080/",
     "height": 300
    },
    "id": "plJ1-f9osJAO",
    "outputId": "79418879-7582-45ee-94d9-3abe4f868151"
   },
   "outputs": [
    {
     "data": {
      "text/html": [
       "\n",
       "  <div id=\"df-2ef5ddf9-582b-4f22-9615-2b67826d94eb\">\n",
       "    <div class=\"colab-df-container\">\n",
       "      <div>\n",
       "<style scoped>\n",
       "    .dataframe tbody tr th:only-of-type {\n",
       "        vertical-align: middle;\n",
       "    }\n",
       "\n",
       "    .dataframe tbody tr th {\n",
       "        vertical-align: top;\n",
       "    }\n",
       "\n",
       "    .dataframe thead th {\n",
       "        text-align: right;\n",
       "    }\n",
       "</style>\n",
       "<table border=\"1\" class=\"dataframe\">\n",
       "  <thead>\n",
       "    <tr style=\"text-align: right;\">\n",
       "      <th></th>\n",
       "      <th>loan_id</th>\n",
       "      <th>age</th>\n",
       "      <th>education</th>\n",
       "      <th>loan_amount</th>\n",
       "      <th>asset_cost</th>\n",
       "      <th>no_of_loans</th>\n",
       "      <th>no_of_curr_loans</th>\n",
       "      <th>last_delinq_none</th>\n",
       "      <th>loan_default</th>\n",
       "    </tr>\n",
       "  </thead>\n",
       "  <tbody>\n",
       "    <tr>\n",
       "      <th>count</th>\n",
       "      <td>7000.000000</td>\n",
       "      <td>7000.000000</td>\n",
       "      <td>6755.000000</td>\n",
       "      <td>7.000000e+03</td>\n",
       "      <td>7.000000e+03</td>\n",
       "      <td>7000.000000</td>\n",
       "      <td>7000.000000</td>\n",
       "      <td>7000.000000</td>\n",
       "      <td>7000.000000</td>\n",
       "    </tr>\n",
       "    <tr>\n",
       "      <th>mean</th>\n",
       "      <td>3500.500000</td>\n",
       "      <td>36.096571</td>\n",
       "      <td>1.561954</td>\n",
       "      <td>6.633552e+05</td>\n",
       "      <td>9.162998e+05</td>\n",
       "      <td>2.853286</td>\n",
       "      <td>1.371143</td>\n",
       "      <td>0.013286</td>\n",
       "      <td>0.400000</td>\n",
       "    </tr>\n",
       "    <tr>\n",
       "      <th>std</th>\n",
       "      <td>2020.870275</td>\n",
       "      <td>7.587700</td>\n",
       "      <td>0.496184</td>\n",
       "      <td>1.498128e+05</td>\n",
       "      <td>2.144922e+05</td>\n",
       "      <td>5.471932</td>\n",
       "      <td>2.189278</td>\n",
       "      <td>0.114504</td>\n",
       "      <td>0.489933</td>\n",
       "    </tr>\n",
       "    <tr>\n",
       "      <th>min</th>\n",
       "      <td>1.000000</td>\n",
       "      <td>21.000000</td>\n",
       "      <td>1.000000</td>\n",
       "      <td>1.678800e+05</td>\n",
       "      <td>4.733520e+05</td>\n",
       "      <td>0.000000</td>\n",
       "      <td>0.000000</td>\n",
       "      <td>0.000000</td>\n",
       "      <td>0.000000</td>\n",
       "    </tr>\n",
       "    <tr>\n",
       "      <th>25%</th>\n",
       "      <td>1750.750000</td>\n",
       "      <td>29.000000</td>\n",
       "      <td>1.000000</td>\n",
       "      <td>5.777880e+05</td>\n",
       "      <td>7.979010e+05</td>\n",
       "      <td>0.000000</td>\n",
       "      <td>0.000000</td>\n",
       "      <td>0.000000</td>\n",
       "      <td>0.000000</td>\n",
       "    </tr>\n",
       "    <tr>\n",
       "      <th>50%</th>\n",
       "      <td>3500.500000</td>\n",
       "      <td>36.000000</td>\n",
       "      <td>2.000000</td>\n",
       "      <td>6.571080e+05</td>\n",
       "      <td>8.584260e+05</td>\n",
       "      <td>0.000000</td>\n",
       "      <td>0.000000</td>\n",
       "      <td>0.000000</td>\n",
       "      <td>0.000000</td>\n",
       "    </tr>\n",
       "    <tr>\n",
       "      <th>75%</th>\n",
       "      <td>5250.250000</td>\n",
       "      <td>43.000000</td>\n",
       "      <td>2.000000</td>\n",
       "      <td>7.373640e+05</td>\n",
       "      <td>9.576750e+05</td>\n",
       "      <td>3.000000</td>\n",
       "      <td>2.000000</td>\n",
       "      <td>0.000000</td>\n",
       "      <td>1.000000</td>\n",
       "    </tr>\n",
       "    <tr>\n",
       "      <th>max</th>\n",
       "      <td>7000.000000</td>\n",
       "      <td>50.000000</td>\n",
       "      <td>2.000000</td>\n",
       "      <td>1.781376e+06</td>\n",
       "      <td>2.419200e+06</td>\n",
       "      <td>109.000000</td>\n",
       "      <td>33.000000</td>\n",
       "      <td>1.000000</td>\n",
       "      <td>1.000000</td>\n",
       "    </tr>\n",
       "  </tbody>\n",
       "</table>\n",
       "</div>\n",
       "      <button class=\"colab-df-convert\" onclick=\"convertToInteractive('df-2ef5ddf9-582b-4f22-9615-2b67826d94eb')\"\n",
       "              title=\"Convert this dataframe to an interactive table.\"\n",
       "              style=\"display:none;\">\n",
       "        \n",
       "  <svg xmlns=\"http://www.w3.org/2000/svg\" height=\"24px\"viewBox=\"0 0 24 24\"\n",
       "       width=\"24px\">\n",
       "    <path d=\"M0 0h24v24H0V0z\" fill=\"none\"/>\n",
       "    <path d=\"M18.56 5.44l.94 2.06.94-2.06 2.06-.94-2.06-.94-.94-2.06-.94 2.06-2.06.94zm-11 1L8.5 8.5l.94-2.06 2.06-.94-2.06-.94L8.5 2.5l-.94 2.06-2.06.94zm10 10l.94 2.06.94-2.06 2.06-.94-2.06-.94-.94-2.06-.94 2.06-2.06.94z\"/><path d=\"M17.41 7.96l-1.37-1.37c-.4-.4-.92-.59-1.43-.59-.52 0-1.04.2-1.43.59L10.3 9.45l-7.72 7.72c-.78.78-.78 2.05 0 2.83L4 21.41c.39.39.9.59 1.41.59.51 0 1.02-.2 1.41-.59l7.78-7.78 2.81-2.81c.8-.78.8-2.07 0-2.86zM5.41 20L4 18.59l7.72-7.72 1.47 1.35L5.41 20z\"/>\n",
       "  </svg>\n",
       "      </button>\n",
       "      \n",
       "  <style>\n",
       "    .colab-df-container {\n",
       "      display:flex;\n",
       "      flex-wrap:wrap;\n",
       "      gap: 12px;\n",
       "    }\n",
       "\n",
       "    .colab-df-convert {\n",
       "      background-color: #E8F0FE;\n",
       "      border: none;\n",
       "      border-radius: 50%;\n",
       "      cursor: pointer;\n",
       "      display: none;\n",
       "      fill: #1967D2;\n",
       "      height: 32px;\n",
       "      padding: 0 0 0 0;\n",
       "      width: 32px;\n",
       "    }\n",
       "\n",
       "    .colab-df-convert:hover {\n",
       "      background-color: #E2EBFA;\n",
       "      box-shadow: 0px 1px 2px rgba(60, 64, 67, 0.3), 0px 1px 3px 1px rgba(60, 64, 67, 0.15);\n",
       "      fill: #174EA6;\n",
       "    }\n",
       "\n",
       "    [theme=dark] .colab-df-convert {\n",
       "      background-color: #3B4455;\n",
       "      fill: #D2E3FC;\n",
       "    }\n",
       "\n",
       "    [theme=dark] .colab-df-convert:hover {\n",
       "      background-color: #434B5C;\n",
       "      box-shadow: 0px 1px 3px 1px rgba(0, 0, 0, 0.15);\n",
       "      filter: drop-shadow(0px 1px 2px rgba(0, 0, 0, 0.3));\n",
       "      fill: #FFFFFF;\n",
       "    }\n",
       "  </style>\n",
       "\n",
       "      <script>\n",
       "        const buttonEl =\n",
       "          document.querySelector('#df-2ef5ddf9-582b-4f22-9615-2b67826d94eb button.colab-df-convert');\n",
       "        buttonEl.style.display =\n",
       "          google.colab.kernel.accessAllowed ? 'block' : 'none';\n",
       "\n",
       "        async function convertToInteractive(key) {\n",
       "          const element = document.querySelector('#df-2ef5ddf9-582b-4f22-9615-2b67826d94eb');\n",
       "          const dataTable =\n",
       "            await google.colab.kernel.invokeFunction('convertToInteractive',\n",
       "                                                     [key], {});\n",
       "          if (!dataTable) return;\n",
       "\n",
       "          const docLinkHtml = 'Like what you see? Visit the ' +\n",
       "            '<a target=\"_blank\" href=https://colab.research.google.com/notebooks/data_table.ipynb>data table notebook</a>'\n",
       "            + ' to learn more about interactive tables.';\n",
       "          element.innerHTML = '';\n",
       "          dataTable['output_type'] = 'display_data';\n",
       "          await google.colab.output.renderOutput(dataTable, element);\n",
       "          const docLink = document.createElement('div');\n",
       "          docLink.innerHTML = docLinkHtml;\n",
       "          element.appendChild(docLink);\n",
       "        }\n",
       "      </script>\n",
       "    </div>\n",
       "  </div>\n",
       "  "
      ],
      "text/plain": [
       "           loan_id          age    education   loan_amount    asset_cost  \\\n",
       "count  7000.000000  7000.000000  6755.000000  7.000000e+03  7.000000e+03   \n",
       "mean   3500.500000    36.096571     1.561954  6.633552e+05  9.162998e+05   \n",
       "std    2020.870275     7.587700     0.496184  1.498128e+05  2.144922e+05   \n",
       "min       1.000000    21.000000     1.000000  1.678800e+05  4.733520e+05   \n",
       "25%    1750.750000    29.000000     1.000000  5.777880e+05  7.979010e+05   \n",
       "50%    3500.500000    36.000000     2.000000  6.571080e+05  8.584260e+05   \n",
       "75%    5250.250000    43.000000     2.000000  7.373640e+05  9.576750e+05   \n",
       "max    7000.000000    50.000000     2.000000  1.781376e+06  2.419200e+06   \n",
       "\n",
       "       no_of_loans  no_of_curr_loans  last_delinq_none  loan_default  \n",
       "count  7000.000000       7000.000000       7000.000000   7000.000000  \n",
       "mean      2.853286          1.371143          0.013286      0.400000  \n",
       "std       5.471932          2.189278          0.114504      0.489933  \n",
       "min       0.000000          0.000000          0.000000      0.000000  \n",
       "25%       0.000000          0.000000          0.000000      0.000000  \n",
       "50%       0.000000          0.000000          0.000000      0.000000  \n",
       "75%       3.000000          2.000000          0.000000      1.000000  \n",
       "max     109.000000         33.000000          1.000000      1.000000  "
      ]
     },
     "execution_count": 44,
     "metadata": {},
     "output_type": "execute_result"
    }
   ],
   "source": [
    "train_df.describe()"
   ]
  },
  {
   "cell_type": "markdown",
   "metadata": {
    "id": "ebxvijaPF9QA"
   },
   "source": [
    "Feature imputing"
   ]
  },
  {
   "cell_type": "code",
   "execution_count": 114,
   "metadata": {
    "colab": {
     "base_uri": "https://localhost:8080/"
    },
    "id": "cY1Mx_5FsI9k",
    "outputId": "c0e8c5d6-80fc-43c1-947a-73afb384909b"
   },
   "outputs": [
    {
     "data": {
      "text/plain": [
       "2"
      ]
     },
     "execution_count": 114,
     "metadata": {},
     "output_type": "execute_result"
    }
   ],
   "source": [
    "#find mode to fill nan values\n",
    "mode_val=train_df['education'].mode()[0]\n",
    "mode_val"
   ]
  },
  {
   "cell_type": "code",
   "execution_count": 137,
   "metadata": {
    "id": "BZrjxDHPUm2a"
   },
   "outputs": [],
   "source": [
    "train_rf=train_df"
   ]
  },
  {
   "cell_type": "code",
   "execution_count": null,
   "metadata": {
    "id": "qSUMdwwnUmwh"
   },
   "outputs": [],
   "source": []
  },
  {
   "cell_type": "code",
   "execution_count": null,
   "metadata": {
    "id": "XwTJnEMWUmps"
   },
   "outputs": [],
   "source": []
  },
  {
   "cell_type": "code",
   "execution_count": null,
   "metadata": {
    "id": "--9YNhjfUmgf"
   },
   "outputs": [],
   "source": []
  },
  {
   "cell_type": "code",
   "execution_count": 138,
   "metadata": {
    "id": "24yS5pYwsI6a"
   },
   "outputs": [],
   "source": [
    "#crete new df to clean data\n",
    "train_dfclean=train_df"
   ]
  },
  {
   "cell_type": "code",
   "execution_count": 139,
   "metadata": {
    "id": "stNwPfwcsI2v"
   },
   "outputs": [],
   "source": [
    "#fill all nan values by mode\n",
    "train_dfclean['education']=train_df['education'].fillna(value=mode_val)\n",
    "train_rf['education']=train_df['education'].fillna(value=mode_val)"
   ]
  },
  {
   "cell_type": "code",
   "execution_count": 110,
   "metadata": {
    "colab": {
     "base_uri": "https://localhost:8080/"
    },
    "id": "d0ECDLMXF60F",
    "outputId": "6d267c08-3d40-40b1-c02b-19916265b4e9"
   },
   "outputs": [
    {
     "data": {
      "text/plain": [
       "array([1., 2.])"
      ]
     },
     "execution_count": 110,
     "metadata": {},
     "output_type": "execute_result"
    }
   ],
   "source": [
    "#check \n",
    "train_dfclean['education'].unique()"
   ]
  },
  {
   "cell_type": "code",
   "execution_count": 50,
   "metadata": {
    "colab": {
     "base_uri": "https://localhost:8080/"
    },
    "id": "Ne5rxmIC6roI",
    "outputId": "61530c77-6bed-42e5-e624-ac835242f552"
   },
   "outputs": [
    {
     "data": {
      "text/plain": [
       "loan_id               int64\n",
       "age                   int64\n",
       "education           float64\n",
       "proof_submitted      object\n",
       "loan_amount           int64\n",
       "asset_cost            int64\n",
       "no_of_loans           int64\n",
       "no_of_curr_loans      int64\n",
       "last_delinq_none      int64\n",
       "loan_default          int64\n",
       "dtype: object"
      ]
     },
     "execution_count": 50,
     "metadata": {},
     "output_type": "execute_result"
    }
   ],
   "source": [
    "#check datatypes\n",
    "train_dfclean.dtypes"
   ]
  },
  {
   "cell_type": "code",
   "execution_count": 140,
   "metadata": {
    "id": "vyHTuhiV6rmC"
   },
   "outputs": [],
   "source": [
    "#change type of education\n",
    "train_dfclean['education'] = train_dfclean['education'].astype(int)\n",
    "train_rf['education']=train_rf['education'].astype(int)"
   ]
  },
  {
   "cell_type": "code",
   "execution_count": 119,
   "metadata": {
    "colab": {
     "base_uri": "https://localhost:8080/"
    },
    "id": "OBxVOlD36rei",
    "outputId": "ecb6bb7c-7fb2-47f9-c6be-686ac531f796"
   },
   "outputs": [
    {
     "data": {
      "text/plain": [
       "array(['Aadhar', 'VoterID', 'Driving', 'PAN', 'Passport'], dtype=object)"
      ]
     },
     "execution_count": 119,
     "metadata": {},
     "output_type": "execute_result"
    }
   ],
   "source": [
    "#check unique values of 'proof_submitted'\n",
    "train_dfclean['proof_submitted'].unique()"
   ]
  },
  {
   "cell_type": "code",
   "execution_count": 141,
   "metadata": {
    "id": "Wa5hZr2I6rb4"
   },
   "outputs": [],
   "source": [
    "# Get one hot encoding of columns\n",
    "one_hot = pd.get_dummies(train_dfclean['proof_submitted'])\n",
    "train_dfclean = train_dfclean.drop('proof_submitted',axis = 1)\n",
    "# Join the encoded df\n",
    "train_dfclean = train_dfclean.join(one_hot)\n",
    "\n",
    "\n",
    "# Get one hot encoding of columns\n",
    "one_hot = pd.get_dummies(train_rf['proof_submitted'])\n",
    "train_rf = train_rf.drop('proof_submitted',axis = 1)\n",
    "# Join the encoded df\n",
    "train_rf = train_rf.join(one_hot)"
   ]
  },
  {
   "cell_type": "code",
   "execution_count": 58,
   "metadata": {
    "colab": {
     "base_uri": "https://localhost:8080/"
    },
    "id": "FFJ2yt046rSZ",
    "outputId": "163dc5fa-13dc-441b-ff23-7421fc6a825f"
   },
   "outputs": [
    {
     "data": {
      "text/plain": [
       "loan_id               int64\n",
       "age                   int64\n",
       "education           float64\n",
       "proof_submitted      object\n",
       "loan_amount           int64\n",
       "asset_cost            int64\n",
       "no_of_loans           int64\n",
       "no_of_curr_loans      int64\n",
       "last_delinq_none      int64\n",
       "dtype: object"
      ]
     },
     "execution_count": 58,
     "metadata": {},
     "output_type": "execute_result"
    }
   ],
   "source": [
    "#check types in test df\n",
    "test_df.dtypes"
   ]
  },
  {
   "cell_type": "code",
   "execution_count": 59,
   "metadata": {
    "colab": {
     "base_uri": "https://localhost:8080/"
    },
    "id": "FXMolqu36rKY",
    "outputId": "32c0dc32-0122-4451-9361-f44176965bc2"
   },
   "outputs": [
    {
     "data": {
      "text/plain": [
       "array(['Aadhar', 'VoterID', 'Driving', 'PAN', 'Passport'], dtype=object)"
      ]
     },
     "execution_count": 59,
     "metadata": {},
     "output_type": "execute_result"
    }
   ],
   "source": [
    "#check for test df\n",
    "test_df['proof_submitted'].unique()"
   ]
  },
  {
   "cell_type": "code",
   "execution_count": 142,
   "metadata": {
    "id": "tgeOx60XAcml"
   },
   "outputs": [],
   "source": [
    "#create new test for cleaning data\n",
    "test_dfclean=test_df\n",
    "test_rf=test_df"
   ]
  },
  {
   "cell_type": "code",
   "execution_count": 143,
   "metadata": {
    "id": "ex8CR_Z6AcjM"
   },
   "outputs": [],
   "source": [
    "#check mode for education in test df\n",
    "mode_val=test_df['education'].mode()[0]\n",
    "mode_val\n",
    "\n",
    "test_dfclean['education']=test_df['education'].fillna(value=mode_val)\n",
    "test_rf['education']=test_df['education'].fillna(value=mode_val)"
   ]
  },
  {
   "cell_type": "code",
   "execution_count": 144,
   "metadata": {
    "id": "xPAxPzSm-5uY"
   },
   "outputs": [],
   "source": [
    "#change the type of education\n",
    "test_dfclean['education'] = test_dfclean['education'].astype(int)\n",
    "test_rf['education'] = test_rf['education'].astype(int)"
   ]
  },
  {
   "cell_type": "code",
   "execution_count": 145,
   "metadata": {
    "id": "f3IGALBVBzYi"
   },
   "outputs": [],
   "source": [
    "# Get one hot encoding of columns\n",
    "one_hot = pd.get_dummies(test_dfclean['proof_submitted'])\n",
    "test_dfclean = test_dfclean.drop('proof_submitted',axis = 1)\n",
    "# Join the encoded df\n",
    "test_dfclean = test_dfclean.join(one_hot)\n",
    "\n",
    "\n",
    "# Get one hot encoding of columns\n",
    "one_hot = pd.get_dummies(test_rf['proof_submitted'])\n",
    "test_rf = test_rf.drop('proof_submitted',axis = 1)\n",
    "# Join the encoded df\n",
    "test_rf = test_rf.join(one_hot)"
   ]
  },
  {
   "cell_type": "code",
   "execution_count": 66,
   "metadata": {
    "colab": {
     "base_uri": "https://localhost:8080/",
     "height": 206
    },
    "id": "roxKUzdYCdHB",
    "outputId": "05323426-f3e5-474c-e79e-050f67ba6fe2"
   },
   "outputs": [
    {
     "data": {
      "text/html": [
       "\n",
       "  <div id=\"df-d709a2db-3fc2-4cd1-9f7e-8b6af054bba9\">\n",
       "    <div class=\"colab-df-container\">\n",
       "      <div>\n",
       "<style scoped>\n",
       "    .dataframe tbody tr th:only-of-type {\n",
       "        vertical-align: middle;\n",
       "    }\n",
       "\n",
       "    .dataframe tbody tr th {\n",
       "        vertical-align: top;\n",
       "    }\n",
       "\n",
       "    .dataframe thead th {\n",
       "        text-align: right;\n",
       "    }\n",
       "</style>\n",
       "<table border=\"1\" class=\"dataframe\">\n",
       "  <thead>\n",
       "    <tr style=\"text-align: right;\">\n",
       "      <th></th>\n",
       "      <th>loan_id</th>\n",
       "      <th>age</th>\n",
       "      <th>education</th>\n",
       "      <th>loan_amount</th>\n",
       "      <th>asset_cost</th>\n",
       "      <th>no_of_loans</th>\n",
       "      <th>no_of_curr_loans</th>\n",
       "      <th>last_delinq_none</th>\n",
       "      <th>Aadhar</th>\n",
       "      <th>Driving</th>\n",
       "      <th>PAN</th>\n",
       "      <th>Passport</th>\n",
       "      <th>VoterID</th>\n",
       "    </tr>\n",
       "  </thead>\n",
       "  <tbody>\n",
       "    <tr>\n",
       "      <th>0</th>\n",
       "      <td>7001</td>\n",
       "      <td>29</td>\n",
       "      <td>1</td>\n",
       "      <td>636936</td>\n",
       "      <td>768240</td>\n",
       "      <td>2</td>\n",
       "      <td>2</td>\n",
       "      <td>0</td>\n",
       "      <td>1</td>\n",
       "      <td>0</td>\n",
       "      <td>0</td>\n",
       "      <td>0</td>\n",
       "      <td>0</td>\n",
       "    </tr>\n",
       "    <tr>\n",
       "      <th>1</th>\n",
       "      <td>7002</td>\n",
       "      <td>28</td>\n",
       "      <td>1</td>\n",
       "      <td>548988</td>\n",
       "      <td>693060</td>\n",
       "      <td>3</td>\n",
       "      <td>3</td>\n",
       "      <td>0</td>\n",
       "      <td>1</td>\n",
       "      <td>0</td>\n",
       "      <td>0</td>\n",
       "      <td>0</td>\n",
       "      <td>0</td>\n",
       "    </tr>\n",
       "    <tr>\n",
       "      <th>2</th>\n",
       "      <td>7003</td>\n",
       "      <td>28</td>\n",
       "      <td>1</td>\n",
       "      <td>651756</td>\n",
       "      <td>936600</td>\n",
       "      <td>0</td>\n",
       "      <td>0</td>\n",
       "      <td>0</td>\n",
       "      <td>1</td>\n",
       "      <td>0</td>\n",
       "      <td>0</td>\n",
       "      <td>0</td>\n",
       "      <td>0</td>\n",
       "    </tr>\n",
       "    <tr>\n",
       "      <th>3</th>\n",
       "      <td>7004</td>\n",
       "      <td>45</td>\n",
       "      <td>2</td>\n",
       "      <td>614676</td>\n",
       "      <td>744840</td>\n",
       "      <td>4</td>\n",
       "      <td>3</td>\n",
       "      <td>0</td>\n",
       "      <td>1</td>\n",
       "      <td>0</td>\n",
       "      <td>0</td>\n",
       "      <td>0</td>\n",
       "      <td>0</td>\n",
       "    </tr>\n",
       "    <tr>\n",
       "      <th>4</th>\n",
       "      <td>7005</td>\n",
       "      <td>48</td>\n",
       "      <td>1</td>\n",
       "      <td>625236</td>\n",
       "      <td>839400</td>\n",
       "      <td>0</td>\n",
       "      <td>0</td>\n",
       "      <td>0</td>\n",
       "      <td>1</td>\n",
       "      <td>0</td>\n",
       "      <td>0</td>\n",
       "      <td>0</td>\n",
       "      <td>0</td>\n",
       "    </tr>\n",
       "  </tbody>\n",
       "</table>\n",
       "</div>\n",
       "      <button class=\"colab-df-convert\" onclick=\"convertToInteractive('df-d709a2db-3fc2-4cd1-9f7e-8b6af054bba9')\"\n",
       "              title=\"Convert this dataframe to an interactive table.\"\n",
       "              style=\"display:none;\">\n",
       "        \n",
       "  <svg xmlns=\"http://www.w3.org/2000/svg\" height=\"24px\"viewBox=\"0 0 24 24\"\n",
       "       width=\"24px\">\n",
       "    <path d=\"M0 0h24v24H0V0z\" fill=\"none\"/>\n",
       "    <path d=\"M18.56 5.44l.94 2.06.94-2.06 2.06-.94-2.06-.94-.94-2.06-.94 2.06-2.06.94zm-11 1L8.5 8.5l.94-2.06 2.06-.94-2.06-.94L8.5 2.5l-.94 2.06-2.06.94zm10 10l.94 2.06.94-2.06 2.06-.94-2.06-.94-.94-2.06-.94 2.06-2.06.94z\"/><path d=\"M17.41 7.96l-1.37-1.37c-.4-.4-.92-.59-1.43-.59-.52 0-1.04.2-1.43.59L10.3 9.45l-7.72 7.72c-.78.78-.78 2.05 0 2.83L4 21.41c.39.39.9.59 1.41.59.51 0 1.02-.2 1.41-.59l7.78-7.78 2.81-2.81c.8-.78.8-2.07 0-2.86zM5.41 20L4 18.59l7.72-7.72 1.47 1.35L5.41 20z\"/>\n",
       "  </svg>\n",
       "      </button>\n",
       "      \n",
       "  <style>\n",
       "    .colab-df-container {\n",
       "      display:flex;\n",
       "      flex-wrap:wrap;\n",
       "      gap: 12px;\n",
       "    }\n",
       "\n",
       "    .colab-df-convert {\n",
       "      background-color: #E8F0FE;\n",
       "      border: none;\n",
       "      border-radius: 50%;\n",
       "      cursor: pointer;\n",
       "      display: none;\n",
       "      fill: #1967D2;\n",
       "      height: 32px;\n",
       "      padding: 0 0 0 0;\n",
       "      width: 32px;\n",
       "    }\n",
       "\n",
       "    .colab-df-convert:hover {\n",
       "      background-color: #E2EBFA;\n",
       "      box-shadow: 0px 1px 2px rgba(60, 64, 67, 0.3), 0px 1px 3px 1px rgba(60, 64, 67, 0.15);\n",
       "      fill: #174EA6;\n",
       "    }\n",
       "\n",
       "    [theme=dark] .colab-df-convert {\n",
       "      background-color: #3B4455;\n",
       "      fill: #D2E3FC;\n",
       "    }\n",
       "\n",
       "    [theme=dark] .colab-df-convert:hover {\n",
       "      background-color: #434B5C;\n",
       "      box-shadow: 0px 1px 3px 1px rgba(0, 0, 0, 0.15);\n",
       "      filter: drop-shadow(0px 1px 2px rgba(0, 0, 0, 0.3));\n",
       "      fill: #FFFFFF;\n",
       "    }\n",
       "  </style>\n",
       "\n",
       "      <script>\n",
       "        const buttonEl =\n",
       "          document.querySelector('#df-d709a2db-3fc2-4cd1-9f7e-8b6af054bba9 button.colab-df-convert');\n",
       "        buttonEl.style.display =\n",
       "          google.colab.kernel.accessAllowed ? 'block' : 'none';\n",
       "\n",
       "        async function convertToInteractive(key) {\n",
       "          const element = document.querySelector('#df-d709a2db-3fc2-4cd1-9f7e-8b6af054bba9');\n",
       "          const dataTable =\n",
       "            await google.colab.kernel.invokeFunction('convertToInteractive',\n",
       "                                                     [key], {});\n",
       "          if (!dataTable) return;\n",
       "\n",
       "          const docLinkHtml = 'Like what you see? Visit the ' +\n",
       "            '<a target=\"_blank\" href=https://colab.research.google.com/notebooks/data_table.ipynb>data table notebook</a>'\n",
       "            + ' to learn more about interactive tables.';\n",
       "          element.innerHTML = '';\n",
       "          dataTable['output_type'] = 'display_data';\n",
       "          await google.colab.output.renderOutput(dataTable, element);\n",
       "          const docLink = document.createElement('div');\n",
       "          docLink.innerHTML = docLinkHtml;\n",
       "          element.appendChild(docLink);\n",
       "        }\n",
       "      </script>\n",
       "    </div>\n",
       "  </div>\n",
       "  "
      ],
      "text/plain": [
       "   loan_id  age  education  loan_amount  asset_cost  no_of_loans  \\\n",
       "0     7001   29          1       636936      768240            2   \n",
       "1     7002   28          1       548988      693060            3   \n",
       "2     7003   28          1       651756      936600            0   \n",
       "3     7004   45          2       614676      744840            4   \n",
       "4     7005   48          1       625236      839400            0   \n",
       "\n",
       "   no_of_curr_loans  last_delinq_none  Aadhar  Driving  PAN  Passport  VoterID  \n",
       "0                 2                 0       1        0    0         0        0  \n",
       "1                 3                 0       1        0    0         0        0  \n",
       "2                 0                 0       1        0    0         0        0  \n",
       "3                 3                 0       1        0    0         0        0  \n",
       "4                 0                 0       1        0    0         0        0  "
      ]
     },
     "execution_count": 66,
     "metadata": {},
     "output_type": "execute_result"
    }
   ],
   "source": [
    "#check for new test df\n",
    "test_dfclean.head()"
   ]
  },
  {
   "cell_type": "code",
   "execution_count": 73,
   "metadata": {
    "colab": {
     "base_uri": "https://localhost:8080/"
    },
    "id": "0gWwytxduJhu",
    "outputId": "4efb04e1-63c0-44bc-f1ed-14ed870ceb09"
   },
   "outputs": [
    {
     "data": {
      "text/plain": [
       "167880"
      ]
     },
     "execution_count": 73,
     "metadata": {},
     "output_type": "execute_result"
    }
   ],
   "source": [
    "#check for min in 'loan_amount'\n",
    "train_dfclean['loan_amount'].min()"
   ]
  },
  {
   "cell_type": "code",
   "execution_count": 74,
   "metadata": {
    "colab": {
     "base_uri": "https://localhost:8080/"
    },
    "id": "V-xgFMSLuI3Y",
    "outputId": "0bb5449e-9566-487c-a1fe-319273aee9ef"
   },
   "outputs": [
    {
     "data": {
      "text/plain": [
       "1781376"
      ]
     },
     "execution_count": 74,
     "metadata": {},
     "output_type": "execute_result"
    }
   ],
   "source": [
    "#check for max in 'loan_amount'\n",
    "train_dfclean['loan_amount'].max()"
   ]
  },
  {
   "cell_type": "code",
   "execution_count": 75,
   "metadata": {
    "colab": {
     "base_uri": "https://localhost:8080/"
    },
    "id": "XtZixfB5vNIG",
    "outputId": "9219de13-9515-435b-cb82-b63d298f1b24"
   },
   "outputs": [
    {
     "data": {
      "text/plain": [
       "473352"
      ]
     },
     "execution_count": 75,
     "metadata": {},
     "output_type": "execute_result"
    }
   ],
   "source": [
    "train_dfclean['asset_cost'].min()"
   ]
  },
  {
   "cell_type": "code",
   "execution_count": 146,
   "metadata": {
    "id": "NN5XlHO3GFEK"
   },
   "outputs": [],
   "source": [
    "#normalize columns\n",
    "num_cols=['loan_amount', 'asset_cost']\n",
    "for i in num_cols:\n",
    "    train_dfclean[i] = np.log(train_dfclean[i])\n",
    "\n",
    "\n"
   ]
  },
  {
   "cell_type": "code",
   "execution_count": 147,
   "metadata": {
    "id": "U1Vq7etKyb_6"
   },
   "outputs": [],
   "source": [
    "# numerical and categorical columns\n",
    "num_cols=['age','loan_amount', 'asset_cost', 'no_of_loans', 'no_of_curr_loans']\n",
    "cat_cols=['last_delinq_none', 'education']"
   ]
  },
  {
   "cell_type": "code",
   "execution_count": 148,
   "metadata": {
    "id": "fNHemRk6yb30"
   },
   "outputs": [],
   "source": [
    "#drop id \n",
    "train_dfclean=train_dfclean.drop('loan_id',axis=1) \n",
    "test_dfclean=test_dfclean.drop('loan_id',axis=1)\n",
    "\n",
    "train_rf=train_rf.drop('loan_id',axis=1) \n",
    "test_rf=test_rf.drop('loan_id',axis=1)"
   ]
  },
  {
   "cell_type": "code",
   "execution_count": 149,
   "metadata": {
    "id": "O67RzgWNybvQ"
   },
   "outputs": [],
   "source": [
    "#scaling numerical features\n",
    "train_dfclean[num_cols] = MinMaxScaler().fit_transform(train_dfclean[num_cols])\n",
    "test_dfclean[num_cols] = MinMaxScaler().fit_transform(test_dfclean[num_cols])"
   ]
  },
  {
   "cell_type": "code",
   "execution_count": 150,
   "metadata": {
    "id": "Tu43fPHjHVJM"
   },
   "outputs": [],
   "source": [
    "#encoding 'education' column \n",
    "le = LabelEncoder()\n",
    "train_dfclean['education'] = le.fit_transform(train_dfclean['education'])\n",
    "train_rf['education'] = le.fit_transform(train_rf['education'])"
   ]
  },
  {
   "cell_type": "code",
   "execution_count": 151,
   "metadata": {
    "id": "MQg3cKr1EwbN"
   },
   "outputs": [],
   "source": [
    "#encoding 'education' column \n",
    "le = LabelEncoder()\n",
    "test_dfclean['education'] = le.fit_transform(test_dfclean['education'])\n",
    "test_rf['education'] = le.fit_transform(test_rf['education'])"
   ]
  },
  {
   "cell_type": "code",
   "execution_count": 152,
   "metadata": {
    "colab": {
     "base_uri": "https://localhost:8080/",
     "height": 206
    },
    "id": "33CGMFFTauUm",
    "outputId": "2cb748a1-8e9e-48aa-ff78-4e56f0adffe7"
   },
   "outputs": [
    {
     "data": {
      "text/html": [
       "\n",
       "  <div id=\"df-d8b1a2d3-cdf7-49b1-a5f6-51784ac29113\">\n",
       "    <div class=\"colab-df-container\">\n",
       "      <div>\n",
       "<style scoped>\n",
       "    .dataframe tbody tr th:only-of-type {\n",
       "        vertical-align: middle;\n",
       "    }\n",
       "\n",
       "    .dataframe tbody tr th {\n",
       "        vertical-align: top;\n",
       "    }\n",
       "\n",
       "    .dataframe thead th {\n",
       "        text-align: right;\n",
       "    }\n",
       "</style>\n",
       "<table border=\"1\" class=\"dataframe\">\n",
       "  <thead>\n",
       "    <tr style=\"text-align: right;\">\n",
       "      <th></th>\n",
       "      <th>age</th>\n",
       "      <th>education</th>\n",
       "      <th>loan_amount</th>\n",
       "      <th>asset_cost</th>\n",
       "      <th>no_of_loans</th>\n",
       "      <th>no_of_curr_loans</th>\n",
       "      <th>last_delinq_none</th>\n",
       "      <th>loan_default</th>\n",
       "      <th>Aadhar</th>\n",
       "      <th>Driving</th>\n",
       "      <th>PAN</th>\n",
       "      <th>Passport</th>\n",
       "      <th>VoterID</th>\n",
       "    </tr>\n",
       "  </thead>\n",
       "  <tbody>\n",
       "    <tr>\n",
       "      <th>0</th>\n",
       "      <td>27</td>\n",
       "      <td>0</td>\n",
       "      <td>504264</td>\n",
       "      <td>820920</td>\n",
       "      <td>2</td>\n",
       "      <td>2</td>\n",
       "      <td>0</td>\n",
       "      <td>0</td>\n",
       "      <td>1</td>\n",
       "      <td>0</td>\n",
       "      <td>0</td>\n",
       "      <td>0</td>\n",
       "      <td>0</td>\n",
       "    </tr>\n",
       "    <tr>\n",
       "      <th>1</th>\n",
       "      <td>48</td>\n",
       "      <td>0</td>\n",
       "      <td>728556</td>\n",
       "      <td>831444</td>\n",
       "      <td>6</td>\n",
       "      <td>2</td>\n",
       "      <td>0</td>\n",
       "      <td>0</td>\n",
       "      <td>1</td>\n",
       "      <td>0</td>\n",
       "      <td>0</td>\n",
       "      <td>0</td>\n",
       "      <td>0</td>\n",
       "    </tr>\n",
       "    <tr>\n",
       "      <th>2</th>\n",
       "      <td>30</td>\n",
       "      <td>1</td>\n",
       "      <td>642936</td>\n",
       "      <td>826092</td>\n",
       "      <td>0</td>\n",
       "      <td>0</td>\n",
       "      <td>0</td>\n",
       "      <td>1</td>\n",
       "      <td>0</td>\n",
       "      <td>0</td>\n",
       "      <td>0</td>\n",
       "      <td>0</td>\n",
       "      <td>1</td>\n",
       "    </tr>\n",
       "    <tr>\n",
       "      <th>3</th>\n",
       "      <td>28</td>\n",
       "      <td>0</td>\n",
       "      <td>746556</td>\n",
       "      <td>930924</td>\n",
       "      <td>0</td>\n",
       "      <td>0</td>\n",
       "      <td>0</td>\n",
       "      <td>0</td>\n",
       "      <td>1</td>\n",
       "      <td>0</td>\n",
       "      <td>0</td>\n",
       "      <td>0</td>\n",
       "      <td>0</td>\n",
       "    </tr>\n",
       "    <tr>\n",
       "      <th>4</th>\n",
       "      <td>29</td>\n",
       "      <td>0</td>\n",
       "      <td>1139880</td>\n",
       "      <td>1902000</td>\n",
       "      <td>0</td>\n",
       "      <td>0</td>\n",
       "      <td>0</td>\n",
       "      <td>0</td>\n",
       "      <td>1</td>\n",
       "      <td>0</td>\n",
       "      <td>0</td>\n",
       "      <td>0</td>\n",
       "      <td>0</td>\n",
       "    </tr>\n",
       "  </tbody>\n",
       "</table>\n",
       "</div>\n",
       "      <button class=\"colab-df-convert\" onclick=\"convertToInteractive('df-d8b1a2d3-cdf7-49b1-a5f6-51784ac29113')\"\n",
       "              title=\"Convert this dataframe to an interactive table.\"\n",
       "              style=\"display:none;\">\n",
       "        \n",
       "  <svg xmlns=\"http://www.w3.org/2000/svg\" height=\"24px\"viewBox=\"0 0 24 24\"\n",
       "       width=\"24px\">\n",
       "    <path d=\"M0 0h24v24H0V0z\" fill=\"none\"/>\n",
       "    <path d=\"M18.56 5.44l.94 2.06.94-2.06 2.06-.94-2.06-.94-.94-2.06-.94 2.06-2.06.94zm-11 1L8.5 8.5l.94-2.06 2.06-.94-2.06-.94L8.5 2.5l-.94 2.06-2.06.94zm10 10l.94 2.06.94-2.06 2.06-.94-2.06-.94-.94-2.06-.94 2.06-2.06.94z\"/><path d=\"M17.41 7.96l-1.37-1.37c-.4-.4-.92-.59-1.43-.59-.52 0-1.04.2-1.43.59L10.3 9.45l-7.72 7.72c-.78.78-.78 2.05 0 2.83L4 21.41c.39.39.9.59 1.41.59.51 0 1.02-.2 1.41-.59l7.78-7.78 2.81-2.81c.8-.78.8-2.07 0-2.86zM5.41 20L4 18.59l7.72-7.72 1.47 1.35L5.41 20z\"/>\n",
       "  </svg>\n",
       "      </button>\n",
       "      \n",
       "  <style>\n",
       "    .colab-df-container {\n",
       "      display:flex;\n",
       "      flex-wrap:wrap;\n",
       "      gap: 12px;\n",
       "    }\n",
       "\n",
       "    .colab-df-convert {\n",
       "      background-color: #E8F0FE;\n",
       "      border: none;\n",
       "      border-radius: 50%;\n",
       "      cursor: pointer;\n",
       "      display: none;\n",
       "      fill: #1967D2;\n",
       "      height: 32px;\n",
       "      padding: 0 0 0 0;\n",
       "      width: 32px;\n",
       "    }\n",
       "\n",
       "    .colab-df-convert:hover {\n",
       "      background-color: #E2EBFA;\n",
       "      box-shadow: 0px 1px 2px rgba(60, 64, 67, 0.3), 0px 1px 3px 1px rgba(60, 64, 67, 0.15);\n",
       "      fill: #174EA6;\n",
       "    }\n",
       "\n",
       "    [theme=dark] .colab-df-convert {\n",
       "      background-color: #3B4455;\n",
       "      fill: #D2E3FC;\n",
       "    }\n",
       "\n",
       "    [theme=dark] .colab-df-convert:hover {\n",
       "      background-color: #434B5C;\n",
       "      box-shadow: 0px 1px 3px 1px rgba(0, 0, 0, 0.15);\n",
       "      filter: drop-shadow(0px 1px 2px rgba(0, 0, 0, 0.3));\n",
       "      fill: #FFFFFF;\n",
       "    }\n",
       "  </style>\n",
       "\n",
       "      <script>\n",
       "        const buttonEl =\n",
       "          document.querySelector('#df-d8b1a2d3-cdf7-49b1-a5f6-51784ac29113 button.colab-df-convert');\n",
       "        buttonEl.style.display =\n",
       "          google.colab.kernel.accessAllowed ? 'block' : 'none';\n",
       "\n",
       "        async function convertToInteractive(key) {\n",
       "          const element = document.querySelector('#df-d8b1a2d3-cdf7-49b1-a5f6-51784ac29113');\n",
       "          const dataTable =\n",
       "            await google.colab.kernel.invokeFunction('convertToInteractive',\n",
       "                                                     [key], {});\n",
       "          if (!dataTable) return;\n",
       "\n",
       "          const docLinkHtml = 'Like what you see? Visit the ' +\n",
       "            '<a target=\"_blank\" href=https://colab.research.google.com/notebooks/data_table.ipynb>data table notebook</a>'\n",
       "            + ' to learn more about interactive tables.';\n",
       "          element.innerHTML = '';\n",
       "          dataTable['output_type'] = 'display_data';\n",
       "          await google.colab.output.renderOutput(dataTable, element);\n",
       "          const docLink = document.createElement('div');\n",
       "          docLink.innerHTML = docLinkHtml;\n",
       "          element.appendChild(docLink);\n",
       "        }\n",
       "      </script>\n",
       "    </div>\n",
       "  </div>\n",
       "  "
      ],
      "text/plain": [
       "   age  education  loan_amount  asset_cost  no_of_loans  no_of_curr_loans  \\\n",
       "0   27          0       504264      820920            2                 2   \n",
       "1   48          0       728556      831444            6                 2   \n",
       "2   30          1       642936      826092            0                 0   \n",
       "3   28          0       746556      930924            0                 0   \n",
       "4   29          0      1139880     1902000            0                 0   \n",
       "\n",
       "   last_delinq_none  loan_default  Aadhar  Driving  PAN  Passport  VoterID  \n",
       "0                 0             0       1        0    0         0        0  \n",
       "1                 0             0       1        0    0         0        0  \n",
       "2                 0             1       0        0    0         0        1  \n",
       "3                 0             0       1        0    0         0        0  \n",
       "4                 0             0       1        0    0         0        0  "
      ]
     },
     "execution_count": 152,
     "metadata": {},
     "output_type": "execute_result"
    }
   ],
   "source": [
    "train_rf.head()"
   ]
  },
  {
   "cell_type": "markdown",
   "metadata": {
    "id": "Z8eaOQsxH5ul"
   },
   "source": [
    "Modelling. Drop target column from train df. I use random Forest Classifier "
   ]
  },
  {
   "cell_type": "code",
   "execution_count": 153,
   "metadata": {
    "id": "1xrMINgQE7ex"
   },
   "outputs": [],
   "source": [
    "# split for independent features and target\n",
    "y=train_dfclean['loan_default']\n",
    "x=train_dfclean.drop('loan_default', axis=1)\n",
    "\n",
    "y_rf=train_rf['loan_default']\n",
    "x_rf=train_rf.drop('loan_default', axis=1)"
   ]
  },
  {
   "cell_type": "code",
   "execution_count": 154,
   "metadata": {
    "id": "MQUrOjO9FZv9"
   },
   "outputs": [],
   "source": [
    "#train test split\n",
    "x_train, x_val, y_train, y_val=train_test_split(x, y, test_size=0.3,random_state=11, stratify = y)\n",
    "\n",
    "#train test split\n",
    "xrf_train, xrf_val, yrf_train, yrf_val=train_test_split(x_rf, y_rf, test_size=0.3,random_state=11, stratify = y_rf)"
   ]
  },
  {
   "cell_type": "code",
   "execution_count": 92,
   "metadata": {
    "colab": {
     "base_uri": "https://localhost:8080/"
    },
    "id": "6Oi9H7nFF6S8",
    "outputId": "fadc1914-6ac2-44f4-9f8e-33b6e4835deb"
   },
   "outputs": [
    {
     "data": {
      "text/plain": [
       "(4900, 12)"
      ]
     },
     "execution_count": 92,
     "metadata": {},
     "output_type": "execute_result"
    }
   ],
   "source": [
    "#shape \n",
    "x_train.shape"
   ]
  },
  {
   "cell_type": "code",
   "execution_count": 93,
   "metadata": {
    "colab": {
     "base_uri": "https://localhost:8080/"
    },
    "id": "Cpt2o7FPGBrl",
    "outputId": "902ef6a7-c45e-4f54-f1ad-557b031af24b"
   },
   "outputs": [
    {
     "data": {
      "text/plain": [
       "(2100, 12)"
      ]
     },
     "execution_count": 93,
     "metadata": {},
     "output_type": "execute_result"
    }
   ],
   "source": [
    "#shape\n",
    "x_val.shape"
   ]
  },
  {
   "cell_type": "code",
   "execution_count": 158,
   "metadata": {
    "colab": {
     "base_uri": "https://localhost:8080/"
    },
    "id": "CpJNoTpybdLy",
    "outputId": "41522319-2568-404d-c487-c74f6eaeeadc"
   },
   "outputs": [
    {
     "name": "stdout",
     "output_type": "stream",
     "text": [
      "Fitting 5 folds for each of 18 candidates, totalling 90 fits\n",
      "[CV 1/5] END max_depth=2, n_estimators=100, random_state=50;, score=0.600 total time=   0.2s\n",
      "[CV 2/5] END max_depth=2, n_estimators=100, random_state=50;, score=0.600 total time=   0.3s\n",
      "[CV 3/5] END max_depth=2, n_estimators=100, random_state=50;, score=0.600 total time=   0.2s\n",
      "[CV 4/5] END max_depth=2, n_estimators=100, random_state=50;, score=0.600 total time=   0.2s\n",
      "[CV 5/5] END max_depth=2, n_estimators=100, random_state=50;, score=0.600 total time=   0.2s\n",
      "[CV 1/5] END max_depth=2, n_estimators=250, random_state=50;, score=0.599 total time=   0.6s\n",
      "[CV 2/5] END max_depth=2, n_estimators=250, random_state=50;, score=0.600 total time=   0.6s\n",
      "[CV 3/5] END max_depth=2, n_estimators=250, random_state=50;, score=0.600 total time=   0.6s\n",
      "[CV 4/5] END max_depth=2, n_estimators=250, random_state=50;, score=0.600 total time=   0.6s\n",
      "[CV 5/5] END max_depth=2, n_estimators=250, random_state=50;, score=0.600 total time=   0.6s\n",
      "[CV 1/5] END max_depth=2, n_estimators=1000, random_state=50;, score=0.601 total time=   2.4s\n",
      "[CV 2/5] END max_depth=2, n_estimators=1000, random_state=50;, score=0.600 total time=   2.3s\n",
      "[CV 3/5] END max_depth=2, n_estimators=1000, random_state=50;, score=0.600 total time=   2.3s\n",
      "[CV 4/5] END max_depth=2, n_estimators=1000, random_state=50;, score=0.600 total time=   2.3s\n",
      "[CV 5/5] END max_depth=2, n_estimators=1000, random_state=50;, score=0.600 total time=   2.3s\n",
      "[CV 1/5] END max_depth=4, n_estimators=100, random_state=50;, score=0.598 total time=   0.3s\n",
      "[CV 2/5] END max_depth=4, n_estimators=100, random_state=50;, score=0.598 total time=   0.3s\n",
      "[CV 3/5] END max_depth=4, n_estimators=100, random_state=50;, score=0.605 total time=   0.3s\n",
      "[CV 4/5] END max_depth=4, n_estimators=100, random_state=50;, score=0.600 total time=   0.3s\n",
      "[CV 5/5] END max_depth=4, n_estimators=100, random_state=50;, score=0.601 total time=   0.3s\n",
      "[CV 1/5] END max_depth=4, n_estimators=250, random_state=50;, score=0.599 total time=   0.7s\n",
      "[CV 2/5] END max_depth=4, n_estimators=250, random_state=50;, score=0.598 total time=   0.7s\n",
      "[CV 3/5] END max_depth=4, n_estimators=250, random_state=50;, score=0.608 total time=   0.7s\n",
      "[CV 4/5] END max_depth=4, n_estimators=250, random_state=50;, score=0.604 total time=   0.7s\n",
      "[CV 5/5] END max_depth=4, n_estimators=250, random_state=50;, score=0.606 total time=   0.7s\n",
      "[CV 1/5] END max_depth=4, n_estimators=1000, random_state=50;, score=0.599 total time=   2.8s\n",
      "[CV 2/5] END max_depth=4, n_estimators=1000, random_state=50;, score=0.598 total time=   2.8s\n",
      "[CV 3/5] END max_depth=4, n_estimators=1000, random_state=50;, score=0.607 total time=   2.8s\n",
      "[CV 4/5] END max_depth=4, n_estimators=1000, random_state=50;, score=0.602 total time=   2.8s\n",
      "[CV 5/5] END max_depth=4, n_estimators=1000, random_state=50;, score=0.605 total time=   2.8s\n",
      "[CV 1/5] END max_depth=8, n_estimators=100, random_state=50;, score=0.599 total time=   0.4s\n",
      "[CV 2/5] END max_depth=8, n_estimators=100, random_state=50;, score=0.602 total time=   0.4s\n",
      "[CV 3/5] END max_depth=8, n_estimators=100, random_state=50;, score=0.602 total time=   0.4s\n",
      "[CV 4/5] END max_depth=8, n_estimators=100, random_state=50;, score=0.586 total time=   0.4s\n",
      "[CV 5/5] END max_depth=8, n_estimators=100, random_state=50;, score=0.602 total time=   0.4s\n",
      "[CV 1/5] END max_depth=8, n_estimators=250, random_state=50;, score=0.602 total time=   1.0s\n",
      "[CV 2/5] END max_depth=8, n_estimators=250, random_state=50;, score=0.598 total time=   1.0s\n",
      "[CV 3/5] END max_depth=8, n_estimators=250, random_state=50;, score=0.607 total time=   1.0s\n",
      "[CV 4/5] END max_depth=8, n_estimators=250, random_state=50;, score=0.600 total time=   0.9s\n",
      "[CV 5/5] END max_depth=8, n_estimators=250, random_state=50;, score=0.602 total time=   1.0s\n",
      "[CV 1/5] END max_depth=8, n_estimators=1000, random_state=50;, score=0.606 total time=   3.8s\n",
      "[CV 2/5] END max_depth=8, n_estimators=1000, random_state=50;, score=0.598 total time=   3.8s\n",
      "[CV 3/5] END max_depth=8, n_estimators=1000, random_state=50;, score=0.611 total time=   3.8s\n",
      "[CV 4/5] END max_depth=8, n_estimators=1000, random_state=50;, score=0.603 total time=   3.8s\n",
      "[CV 5/5] END max_depth=8, n_estimators=1000, random_state=50;, score=0.604 total time=   3.8s\n",
      "[CV 1/5] END max_depth=16, n_estimators=100, random_state=50;, score=0.595 total time=   0.6s\n",
      "[CV 2/5] END max_depth=16, n_estimators=100, random_state=50;, score=0.586 total time=   0.6s\n",
      "[CV 3/5] END max_depth=16, n_estimators=100, random_state=50;, score=0.581 total time=   0.6s\n",
      "[CV 4/5] END max_depth=16, n_estimators=100, random_state=50;, score=0.567 total time=   0.6s\n",
      "[CV 5/5] END max_depth=16, n_estimators=100, random_state=50;, score=0.568 total time=   0.6s\n",
      "[CV 1/5] END max_depth=16, n_estimators=250, random_state=50;, score=0.604 total time=   1.4s\n",
      "[CV 2/5] END max_depth=16, n_estimators=250, random_state=50;, score=0.585 total time=   1.4s\n",
      "[CV 3/5] END max_depth=16, n_estimators=250, random_state=50;, score=0.587 total time=   1.4s\n",
      "[CV 4/5] END max_depth=16, n_estimators=250, random_state=50;, score=0.577 total time=   1.4s\n",
      "[CV 5/5] END max_depth=16, n_estimators=250, random_state=50;, score=0.572 total time=   1.4s\n",
      "[CV 1/5] END max_depth=16, n_estimators=1000, random_state=50;, score=0.589 total time=   5.7s\n",
      "[CV 2/5] END max_depth=16, n_estimators=1000, random_state=50;, score=0.594 total time=   5.6s\n",
      "[CV 3/5] END max_depth=16, n_estimators=1000, random_state=50;, score=0.589 total time=   5.6s\n",
      "[CV 4/5] END max_depth=16, n_estimators=1000, random_state=50;, score=0.578 total time=   5.6s\n",
      "[CV 5/5] END max_depth=16, n_estimators=1000, random_state=50;, score=0.566 total time=   5.6s\n",
      "[CV 1/5] END max_depth=32, n_estimators=100, random_state=50;, score=0.598 total time=   0.6s\n",
      "[CV 2/5] END max_depth=32, n_estimators=100, random_state=50;, score=0.589 total time=   0.7s\n",
      "[CV 3/5] END max_depth=32, n_estimators=100, random_state=50;, score=0.583 total time=   0.7s\n",
      "[CV 4/5] END max_depth=32, n_estimators=100, random_state=50;, score=0.560 total time=   0.6s\n",
      "[CV 5/5] END max_depth=32, n_estimators=100, random_state=50;, score=0.563 total time=   0.6s\n",
      "[CV 1/5] END max_depth=32, n_estimators=250, random_state=50;, score=0.590 total time=   1.6s\n",
      "[CV 2/5] END max_depth=32, n_estimators=250, random_state=50;, score=0.598 total time=   1.6s\n",
      "[CV 3/5] END max_depth=32, n_estimators=250, random_state=50;, score=0.583 total time=   1.6s\n",
      "[CV 4/5] END max_depth=32, n_estimators=250, random_state=50;, score=0.557 total time=   1.6s\n",
      "[CV 5/5] END max_depth=32, n_estimators=250, random_state=50;, score=0.553 total time=   1.6s\n",
      "[CV 1/5] END max_depth=32, n_estimators=1000, random_state=50;, score=0.585 total time=   6.3s\n",
      "[CV 2/5] END max_depth=32, n_estimators=1000, random_state=50;, score=0.590 total time=   6.3s\n",
      "[CV 3/5] END max_depth=32, n_estimators=1000, random_state=50;, score=0.572 total time=   6.4s\n",
      "[CV 4/5] END max_depth=32, n_estimators=1000, random_state=50;, score=0.563 total time=   6.5s\n",
      "[CV 5/5] END max_depth=32, n_estimators=1000, random_state=50;, score=0.560 total time=   6.3s\n",
      "[CV 1/5] END max_depth=None, n_estimators=100, random_state=50;, score=0.587 total time=   0.7s\n",
      "[CV 2/5] END max_depth=None, n_estimators=100, random_state=50;, score=0.585 total time=   0.6s\n",
      "[CV 3/5] END max_depth=None, n_estimators=100, random_state=50;, score=0.580 total time=   0.7s\n",
      "[CV 4/5] END max_depth=None, n_estimators=100, random_state=50;, score=0.551 total time=   0.7s\n",
      "[CV 5/5] END max_depth=None, n_estimators=100, random_state=50;, score=0.567 total time=   0.7s\n",
      "[CV 1/5] END max_depth=None, n_estimators=250, random_state=50;, score=0.583 total time=   1.6s\n",
      "[CV 2/5] END max_depth=None, n_estimators=250, random_state=50;, score=0.591 total time=   1.6s\n",
      "[CV 3/5] END max_depth=None, n_estimators=250, random_state=50;, score=0.578 total time=   1.6s\n",
      "[CV 4/5] END max_depth=None, n_estimators=250, random_state=50;, score=0.558 total time=   1.8s\n",
      "[CV 5/5] END max_depth=None, n_estimators=250, random_state=50;, score=0.551 total time=   1.6s\n",
      "[CV 1/5] END max_depth=None, n_estimators=1000, random_state=50;, score=0.585 total time=   6.5s\n",
      "[CV 2/5] END max_depth=None, n_estimators=1000, random_state=50;, score=0.587 total time=   6.5s\n",
      "[CV 3/5] END max_depth=None, n_estimators=1000, random_state=50;, score=0.568 total time=   6.4s\n",
      "[CV 4/5] END max_depth=None, n_estimators=1000, random_state=50;, score=0.563 total time=   6.4s\n",
      "[CV 5/5] END max_depth=None, n_estimators=1000, random_state=50;, score=0.557 total time=   6.3s\n",
      "Mean accuracy: %.3f 0.6044897959183674\n",
      "config: %s {'max_depth': 8, 'n_estimators': 1000, 'random_state': 50}\n"
     ]
    }
   ],
   "source": [
    "from sklearn.model_selection import GridSearchCV\n",
    "rf_paramgrid={\n",
    "    \"n_estimators\":[100,250,1000],\n",
    "    \"max_depth\":[2,4,8,16,32,None],\n",
    "    'random_state':[50]\n",
    "}\n",
    "\n",
    "rf_search=GridSearchCV(RandomForestClassifier(), rf_paramgrid, refit=True, verbose=3, cv=5)\n",
    "rf_search.fit(xrf_train, yrf_train)\n",
    "rf_search.best_params_\n",
    "print('Mean accuracy: %.3f', rf_search.best_score_)\n",
    "print(\"config: %s\",  rf_search.best_params_)\n",
    "\n"
   ]
  },
  {
   "cell_type": "code",
   "execution_count": 159,
   "metadata": {
    "colab": {
     "base_uri": "https://localhost:8080/"
    },
    "id": "DYAUEO-IbdCn",
    "outputId": "24d210d5-2ff4-4378-fa64-96ffef4f63d7"
   },
   "outputs": [
    {
     "name": "stdout",
     "output_type": "stream",
     "text": [
      "0.4553872558443765\n"
     ]
    }
   ],
   "source": [
    "yrf_pred=rf_search.predict(xrf_val)\n",
    "f1_reg=f1_score(yrf_val, yrf_pred, average='macro')\n",
    "print(f1_reg)"
   ]
  },
  {
   "cell_type": "code",
   "execution_count": 160,
   "metadata": {
    "colab": {
     "base_uri": "https://localhost:8080/"
    },
    "id": "4fS__lvcWuQN",
    "outputId": "2d75b200-77c2-48ed-8b93-166767185cb9"
   },
   "outputs": [
    {
     "name": "stdout",
     "output_type": "stream",
     "text": [
      "0.9997874330321866\n"
     ]
    }
   ],
   "source": [
    "from sklearn.ensemble import RandomForestClassifier\n",
    "RF_reg = RandomForestClassifier()\n",
    "\n",
    "RF_reg.fit(xrf_train, yrf_train)\n",
    "yrf_pred=RF_reg.predict(xrf_train)\n",
    "\n",
    "f1_reg=f1_score(yrf_train, yrf_pred, average='macro')\n",
    "print(f1_reg)"
   ]
  },
  {
   "cell_type": "code",
   "execution_count": 161,
   "metadata": {
    "colab": {
     "base_uri": "https://localhost:8080/"
    },
    "id": "8EbTL6b3W7bG",
    "outputId": "e4e61cf0-526c-44e9-b2c3-84a67919b1f3"
   },
   "outputs": [
    {
     "name": "stdout",
     "output_type": "stream",
     "text": [
      "0.5409483428525796\n"
     ]
    }
   ],
   "source": [
    "yrf_pred = RF_reg.predict(xrf_val)\n",
    "\n",
    "# Calculating F1 score of prediction on val data\n",
    "f1_reg = f1_score(yrf_val, yrf_pred, average='macro')\n",
    "print(f1_reg)"
   ]
  },
  {
   "cell_type": "code",
   "execution_count": 162,
   "metadata": {
    "id": "WYYPiNOeWuOA"
   },
   "outputs": [],
   "source": [
    "#prediction for test df\n",
    "pred_test = RF_reg.predict(test_rf)\n",
    "submission=pd.read_csv(\"sample_submission_tbPU9qQ.csv\")\n",
    "#fill submission file\n",
    "submission['loan_default']=pred_test \n",
    "submission['loan_id']=test_df['loan_id']\n",
    "#create file with answers\n",
    "pd.DataFrame(submission, columns=['loan_id','loan_default']).to_csv('randomforestfinal3_classifier.csv', index=False)\n"
   ]
  },
  {
   "cell_type": "markdown",
   "metadata": {
    "id": "1S1gI4BcYHjc"
   },
   "source": [
    "# Новый раздел"
   ]
  },
  {
   "cell_type": "code",
   "execution_count": null,
   "metadata": {
    "id": "U_K9WyoTWuLk"
   },
   "outputs": [],
   "source": []
  },
  {
   "cell_type": "code",
   "execution_count": null,
   "metadata": {
    "id": "agWnepkzWuIZ"
   },
   "outputs": [],
   "source": []
  },
  {
   "cell_type": "code",
   "execution_count": null,
   "metadata": {
    "id": "9S2VG1_uWuCU"
   },
   "outputs": [],
   "source": []
  },
  {
   "cell_type": "code",
   "execution_count": 94,
   "metadata": {
    "colab": {
     "base_uri": "https://localhost:8080/"
    },
    "id": "JfRw0Si_ISVo",
    "outputId": "4c3027ee-6103-4c76-b13c-03daf084171b"
   },
   "outputs": [
    {
     "name": "stdout",
     "output_type": "stream",
     "text": [
      "0.9997874330321866\n"
     ]
    }
   ],
   "source": [
    "#random forest\n",
    "#create classifier\n",
    "#fit classifier\n",
    "#check macro f1 score\n",
    "from sklearn.ensemble import RandomForestClassifier\n",
    "RF_reg = RandomForestClassifier()\n",
    "\n",
    "RF_reg.fit(x_train, y_train)\n",
    "y_pred=RF_reg.predict(x_train)\n",
    "\n",
    "f1_reg=f1_score(y_train, y_pred, average='macro')\n",
    "print(f1_reg)"
   ]
  },
  {
   "cell_type": "code",
   "execution_count": 95,
   "metadata": {
    "colab": {
     "base_uri": "https://localhost:8080/"
    },
    "id": "m6h-6G-lR7cu",
    "outputId": "5b1b7cad-1512-49fa-8442-9b64a8df0a9a"
   },
   "outputs": [
    {
     "name": "stdout",
     "output_type": "stream",
     "text": [
      "0.5245649094816358\n"
     ]
    }
   ],
   "source": [
    "y_pred = RF_reg.predict(x_val)\n",
    "\n",
    "# Calculating F1 score of prediction on val data\n",
    "f1_reg = f1_score(y_val, y_pred, average='macro')\n",
    "print(f1_reg)\n",
    "\n"
   ]
  },
  {
   "cell_type": "code",
   "execution_count": 97,
   "metadata": {
    "id": "pXhCHOm-d-zm"
   },
   "outputs": [],
   "source": [
    "#prediction for test df\n",
    "pred_test = RF_reg.predict(test_dfclean)"
   ]
  },
  {
   "cell_type": "code",
   "execution_count": 98,
   "metadata": {
    "id": "Ck8fL8DvtBkM"
   },
   "outputs": [],
   "source": [
    "#read submission file\n",
    "submission=pd.read_csv(\"sample_submission_tbPU9qQ.csv\")"
   ]
  },
  {
   "cell_type": "code",
   "execution_count": 131,
   "metadata": {
    "colab": {
     "base_uri": "https://localhost:8080/",
     "height": 206
    },
    "id": "5ZxdlX1bxw0E",
    "outputId": "d1d8ed27-024e-484d-81d8-a4ce65f5bb5d"
   },
   "outputs": [
    {
     "data": {
      "text/html": [
       "\n",
       "  <div id=\"df-d3999278-902f-4db8-8655-ca3026e8ab30\">\n",
       "    <div class=\"colab-df-container\">\n",
       "      <div>\n",
       "<style scoped>\n",
       "    .dataframe tbody tr th:only-of-type {\n",
       "        vertical-align: middle;\n",
       "    }\n",
       "\n",
       "    .dataframe tbody tr th {\n",
       "        vertical-align: top;\n",
       "    }\n",
       "\n",
       "    .dataframe thead th {\n",
       "        text-align: right;\n",
       "    }\n",
       "</style>\n",
       "<table border=\"1\" class=\"dataframe\">\n",
       "  <thead>\n",
       "    <tr style=\"text-align: right;\">\n",
       "      <th></th>\n",
       "      <th>loan_id</th>\n",
       "      <th>loan_default</th>\n",
       "    </tr>\n",
       "  </thead>\n",
       "  <tbody>\n",
       "    <tr>\n",
       "      <th>0</th>\n",
       "      <td>7001</td>\n",
       "      <td>1</td>\n",
       "    </tr>\n",
       "    <tr>\n",
       "      <th>1</th>\n",
       "      <td>7002</td>\n",
       "      <td>1</td>\n",
       "    </tr>\n",
       "    <tr>\n",
       "      <th>2</th>\n",
       "      <td>7003</td>\n",
       "      <td>1</td>\n",
       "    </tr>\n",
       "    <tr>\n",
       "      <th>3</th>\n",
       "      <td>7004</td>\n",
       "      <td>1</td>\n",
       "    </tr>\n",
       "    <tr>\n",
       "      <th>4</th>\n",
       "      <td>7005</td>\n",
       "      <td>1</td>\n",
       "    </tr>\n",
       "  </tbody>\n",
       "</table>\n",
       "</div>\n",
       "      <button class=\"colab-df-convert\" onclick=\"convertToInteractive('df-d3999278-902f-4db8-8655-ca3026e8ab30')\"\n",
       "              title=\"Convert this dataframe to an interactive table.\"\n",
       "              style=\"display:none;\">\n",
       "        \n",
       "  <svg xmlns=\"http://www.w3.org/2000/svg\" height=\"24px\"viewBox=\"0 0 24 24\"\n",
       "       width=\"24px\">\n",
       "    <path d=\"M0 0h24v24H0V0z\" fill=\"none\"/>\n",
       "    <path d=\"M18.56 5.44l.94 2.06.94-2.06 2.06-.94-2.06-.94-.94-2.06-.94 2.06-2.06.94zm-11 1L8.5 8.5l.94-2.06 2.06-.94-2.06-.94L8.5 2.5l-.94 2.06-2.06.94zm10 10l.94 2.06.94-2.06 2.06-.94-2.06-.94-.94-2.06-.94 2.06-2.06.94z\"/><path d=\"M17.41 7.96l-1.37-1.37c-.4-.4-.92-.59-1.43-.59-.52 0-1.04.2-1.43.59L10.3 9.45l-7.72 7.72c-.78.78-.78 2.05 0 2.83L4 21.41c.39.39.9.59 1.41.59.51 0 1.02-.2 1.41-.59l7.78-7.78 2.81-2.81c.8-.78.8-2.07 0-2.86zM5.41 20L4 18.59l7.72-7.72 1.47 1.35L5.41 20z\"/>\n",
       "  </svg>\n",
       "      </button>\n",
       "      \n",
       "  <style>\n",
       "    .colab-df-container {\n",
       "      display:flex;\n",
       "      flex-wrap:wrap;\n",
       "      gap: 12px;\n",
       "    }\n",
       "\n",
       "    .colab-df-convert {\n",
       "      background-color: #E8F0FE;\n",
       "      border: none;\n",
       "      border-radius: 50%;\n",
       "      cursor: pointer;\n",
       "      display: none;\n",
       "      fill: #1967D2;\n",
       "      height: 32px;\n",
       "      padding: 0 0 0 0;\n",
       "      width: 32px;\n",
       "    }\n",
       "\n",
       "    .colab-df-convert:hover {\n",
       "      background-color: #E2EBFA;\n",
       "      box-shadow: 0px 1px 2px rgba(60, 64, 67, 0.3), 0px 1px 3px 1px rgba(60, 64, 67, 0.15);\n",
       "      fill: #174EA6;\n",
       "    }\n",
       "\n",
       "    [theme=dark] .colab-df-convert {\n",
       "      background-color: #3B4455;\n",
       "      fill: #D2E3FC;\n",
       "    }\n",
       "\n",
       "    [theme=dark] .colab-df-convert:hover {\n",
       "      background-color: #434B5C;\n",
       "      box-shadow: 0px 1px 3px 1px rgba(0, 0, 0, 0.15);\n",
       "      filter: drop-shadow(0px 1px 2px rgba(0, 0, 0, 0.3));\n",
       "      fill: #FFFFFF;\n",
       "    }\n",
       "  </style>\n",
       "\n",
       "      <script>\n",
       "        const buttonEl =\n",
       "          document.querySelector('#df-d3999278-902f-4db8-8655-ca3026e8ab30 button.colab-df-convert');\n",
       "        buttonEl.style.display =\n",
       "          google.colab.kernel.accessAllowed ? 'block' : 'none';\n",
       "\n",
       "        async function convertToInteractive(key) {\n",
       "          const element = document.querySelector('#df-d3999278-902f-4db8-8655-ca3026e8ab30');\n",
       "          const dataTable =\n",
       "            await google.colab.kernel.invokeFunction('convertToInteractive',\n",
       "                                                     [key], {});\n",
       "          if (!dataTable) return;\n",
       "\n",
       "          const docLinkHtml = 'Like what you see? Visit the ' +\n",
       "            '<a target=\"_blank\" href=https://colab.research.google.com/notebooks/data_table.ipynb>data table notebook</a>'\n",
       "            + ' to learn more about interactive tables.';\n",
       "          element.innerHTML = '';\n",
       "          dataTable['output_type'] = 'display_data';\n",
       "          await google.colab.output.renderOutput(dataTable, element);\n",
       "          const docLink = document.createElement('div');\n",
       "          docLink.innerHTML = docLinkHtml;\n",
       "          element.appendChild(docLink);\n",
       "        }\n",
       "      </script>\n",
       "    </div>\n",
       "  </div>\n",
       "  "
      ],
      "text/plain": [
       "   loan_id  loan_default\n",
       "0     7001             1\n",
       "1     7002             1\n",
       "2     7003             1\n",
       "3     7004             1\n",
       "4     7005             1"
      ]
     },
     "execution_count": 131,
     "metadata": {},
     "output_type": "execute_result"
    }
   ],
   "source": [
    "submission.head()"
   ]
  },
  {
   "cell_type": "code",
   "execution_count": 110,
   "metadata": {
    "id": "DoP7Xtz_x8Dv"
   },
   "outputs": [],
   "source": []
  },
  {
   "cell_type": "code",
   "execution_count": 99,
   "metadata": {
    "id": "zy57qp03taQg"
   },
   "outputs": [],
   "source": [
    "#fill submission file\n",
    "submission['loan_default']=pred_test \n",
    "submission['loan_id']=test_df['loan_id']"
   ]
  },
  {
   "cell_type": "code",
   "execution_count": 100,
   "metadata": {
    "colab": {
     "base_uri": "https://localhost:8080/",
     "height": 206
    },
    "id": "SqQULAE3yVp0",
    "outputId": "2df4c50b-3284-4350-e43b-3fc87afea1b2"
   },
   "outputs": [
    {
     "data": {
      "text/html": [
       "\n",
       "  <div id=\"df-3f93b302-7e9f-4731-a282-528152119dd8\">\n",
       "    <div class=\"colab-df-container\">\n",
       "      <div>\n",
       "<style scoped>\n",
       "    .dataframe tbody tr th:only-of-type {\n",
       "        vertical-align: middle;\n",
       "    }\n",
       "\n",
       "    .dataframe tbody tr th {\n",
       "        vertical-align: top;\n",
       "    }\n",
       "\n",
       "    .dataframe thead th {\n",
       "        text-align: right;\n",
       "    }\n",
       "</style>\n",
       "<table border=\"1\" class=\"dataframe\">\n",
       "  <thead>\n",
       "    <tr style=\"text-align: right;\">\n",
       "      <th></th>\n",
       "      <th>loan_id</th>\n",
       "      <th>loan_default</th>\n",
       "    </tr>\n",
       "  </thead>\n",
       "  <tbody>\n",
       "    <tr>\n",
       "      <th>0</th>\n",
       "      <td>7001</td>\n",
       "      <td>0</td>\n",
       "    </tr>\n",
       "    <tr>\n",
       "      <th>1</th>\n",
       "      <td>7002</td>\n",
       "      <td>0</td>\n",
       "    </tr>\n",
       "    <tr>\n",
       "      <th>2</th>\n",
       "      <td>7003</td>\n",
       "      <td>0</td>\n",
       "    </tr>\n",
       "    <tr>\n",
       "      <th>3</th>\n",
       "      <td>7004</td>\n",
       "      <td>0</td>\n",
       "    </tr>\n",
       "    <tr>\n",
       "      <th>4</th>\n",
       "      <td>7005</td>\n",
       "      <td>0</td>\n",
       "    </tr>\n",
       "  </tbody>\n",
       "</table>\n",
       "</div>\n",
       "      <button class=\"colab-df-convert\" onclick=\"convertToInteractive('df-3f93b302-7e9f-4731-a282-528152119dd8')\"\n",
       "              title=\"Convert this dataframe to an interactive table.\"\n",
       "              style=\"display:none;\">\n",
       "        \n",
       "  <svg xmlns=\"http://www.w3.org/2000/svg\" height=\"24px\"viewBox=\"0 0 24 24\"\n",
       "       width=\"24px\">\n",
       "    <path d=\"M0 0h24v24H0V0z\" fill=\"none\"/>\n",
       "    <path d=\"M18.56 5.44l.94 2.06.94-2.06 2.06-.94-2.06-.94-.94-2.06-.94 2.06-2.06.94zm-11 1L8.5 8.5l.94-2.06 2.06-.94-2.06-.94L8.5 2.5l-.94 2.06-2.06.94zm10 10l.94 2.06.94-2.06 2.06-.94-2.06-.94-.94-2.06-.94 2.06-2.06.94z\"/><path d=\"M17.41 7.96l-1.37-1.37c-.4-.4-.92-.59-1.43-.59-.52 0-1.04.2-1.43.59L10.3 9.45l-7.72 7.72c-.78.78-.78 2.05 0 2.83L4 21.41c.39.39.9.59 1.41.59.51 0 1.02-.2 1.41-.59l7.78-7.78 2.81-2.81c.8-.78.8-2.07 0-2.86zM5.41 20L4 18.59l7.72-7.72 1.47 1.35L5.41 20z\"/>\n",
       "  </svg>\n",
       "      </button>\n",
       "      \n",
       "  <style>\n",
       "    .colab-df-container {\n",
       "      display:flex;\n",
       "      flex-wrap:wrap;\n",
       "      gap: 12px;\n",
       "    }\n",
       "\n",
       "    .colab-df-convert {\n",
       "      background-color: #E8F0FE;\n",
       "      border: none;\n",
       "      border-radius: 50%;\n",
       "      cursor: pointer;\n",
       "      display: none;\n",
       "      fill: #1967D2;\n",
       "      height: 32px;\n",
       "      padding: 0 0 0 0;\n",
       "      width: 32px;\n",
       "    }\n",
       "\n",
       "    .colab-df-convert:hover {\n",
       "      background-color: #E2EBFA;\n",
       "      box-shadow: 0px 1px 2px rgba(60, 64, 67, 0.3), 0px 1px 3px 1px rgba(60, 64, 67, 0.15);\n",
       "      fill: #174EA6;\n",
       "    }\n",
       "\n",
       "    [theme=dark] .colab-df-convert {\n",
       "      background-color: #3B4455;\n",
       "      fill: #D2E3FC;\n",
       "    }\n",
       "\n",
       "    [theme=dark] .colab-df-convert:hover {\n",
       "      background-color: #434B5C;\n",
       "      box-shadow: 0px 1px 3px 1px rgba(0, 0, 0, 0.15);\n",
       "      filter: drop-shadow(0px 1px 2px rgba(0, 0, 0, 0.3));\n",
       "      fill: #FFFFFF;\n",
       "    }\n",
       "  </style>\n",
       "\n",
       "      <script>\n",
       "        const buttonEl =\n",
       "          document.querySelector('#df-3f93b302-7e9f-4731-a282-528152119dd8 button.colab-df-convert');\n",
       "        buttonEl.style.display =\n",
       "          google.colab.kernel.accessAllowed ? 'block' : 'none';\n",
       "\n",
       "        async function convertToInteractive(key) {\n",
       "          const element = document.querySelector('#df-3f93b302-7e9f-4731-a282-528152119dd8');\n",
       "          const dataTable =\n",
       "            await google.colab.kernel.invokeFunction('convertToInteractive',\n",
       "                                                     [key], {});\n",
       "          if (!dataTable) return;\n",
       "\n",
       "          const docLinkHtml = 'Like what you see? Visit the ' +\n",
       "            '<a target=\"_blank\" href=https://colab.research.google.com/notebooks/data_table.ipynb>data table notebook</a>'\n",
       "            + ' to learn more about interactive tables.';\n",
       "          element.innerHTML = '';\n",
       "          dataTable['output_type'] = 'display_data';\n",
       "          await google.colab.output.renderOutput(dataTable, element);\n",
       "          const docLink = document.createElement('div');\n",
       "          docLink.innerHTML = docLinkHtml;\n",
       "          element.appendChild(docLink);\n",
       "        }\n",
       "      </script>\n",
       "    </div>\n",
       "  </div>\n",
       "  "
      ],
      "text/plain": [
       "   loan_id  loan_default\n",
       "0     7001             0\n",
       "1     7002             0\n",
       "2     7003             0\n",
       "3     7004             0\n",
       "4     7005             0"
      ]
     },
     "execution_count": 100,
     "metadata": {},
     "output_type": "execute_result"
    }
   ],
   "source": [
    "submission.head()"
   ]
  },
  {
   "cell_type": "code",
   "execution_count": 126,
   "metadata": {
    "id": "VFtul4pmypJa"
   },
   "outputs": [],
   "source": []
  },
  {
   "cell_type": "code",
   "execution_count": 101,
   "metadata": {
    "id": "9ptD13FIt-Jk"
   },
   "outputs": [],
   "source": [
    "#create file with answers\n",
    "pd.DataFrame(submission, columns=['loan_id','loan_default']).to_csv('randomforestfinal_classifier.csv', index=False)"
   ]
  }
 ],
 "metadata": {
  "colab": {
   "collapsed_sections": [],
   "name": "Final_Solution3",
   "provenance": []
  },
  "kernelspec": {
   "display_name": "Python 3 (ipykernel)",
   "language": "python",
   "name": "python3"
  },
  "language_info": {
   "codemirror_mode": {
    "name": "ipython",
    "version": 3
   },
   "file_extension": ".py",
   "mimetype": "text/x-python",
   "name": "python",
   "nbconvert_exporter": "python",
   "pygments_lexer": "ipython3",
   "version": "3.9.10"
  }
 },
 "nbformat": 4,
 "nbformat_minor": 1
}
